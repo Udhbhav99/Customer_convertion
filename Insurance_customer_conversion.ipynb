{
  "cells": [
    {
      "cell_type": "markdown",
      "metadata": {
        "id": "view-in-github",
        "colab_type": "text"
      },
      "source": [
        "<a href=\"https://colab.research.google.com/github/Udhbhav99/Customer_convertion/blob/main/Insurance_customer_conversion.ipynb\" target=\"_parent\"><img src=\"https://colab.research.google.com/assets/colab-badge.svg\" alt=\"Open In Colab\"/></a>"
      ]
    },
    {
      "cell_type": "code",
      "execution_count": 6,
      "id": "0b5765f9",
      "metadata": {
        "id": "0b5765f9"
      },
      "outputs": [],
      "source": [
        "import pandas as pd"
      ]
    },
    {
      "cell_type": "code",
      "execution_count": 7,
      "id": "2d71943a",
      "metadata": {
        "colab": {
          "base_uri": "https://localhost:8080/"
        },
        "id": "2d71943a",
        "outputId": "f72c6d1a-ad8f-475f-999c-e791d9672cf1"
      },
      "outputs": [
        {
          "output_type": "stream",
          "name": "stdout",
          "text": [
            "Requirement already satisfied: imblearn in /usr/local/lib/python3.10/dist-packages (0.0)\n",
            "Requirement already satisfied: imbalanced-learn in /usr/local/lib/python3.10/dist-packages (from imblearn) (0.10.1)\n",
            "Requirement already satisfied: numpy>=1.17.3 in /usr/local/lib/python3.10/dist-packages (from imbalanced-learn->imblearn) (1.23.5)\n",
            "Requirement already satisfied: scipy>=1.3.2 in /usr/local/lib/python3.10/dist-packages (from imbalanced-learn->imblearn) (1.11.3)\n",
            "Requirement already satisfied: scikit-learn>=1.0.2 in /usr/local/lib/python3.10/dist-packages (from imbalanced-learn->imblearn) (1.2.2)\n",
            "Requirement already satisfied: joblib>=1.1.1 in /usr/local/lib/python3.10/dist-packages (from imbalanced-learn->imblearn) (1.3.2)\n",
            "Requirement already satisfied: threadpoolctl>=2.0.0 in /usr/local/lib/python3.10/dist-packages (from imbalanced-learn->imblearn) (3.2.0)\n"
          ]
        }
      ],
      "source": [
        "pip install imblearn"
      ]
    },
    {
      "cell_type": "code",
      "execution_count": 8,
      "id": "c44aff4b",
      "metadata": {
        "id": "c44aff4b"
      },
      "outputs": [],
      "source": [
        "import numpy as np"
      ]
    },
    {
      "cell_type": "code",
      "execution_count": 9,
      "id": "ddb18fb4",
      "metadata": {
        "id": "ddb18fb4"
      },
      "outputs": [],
      "source": [
        "import seaborn as sns\n",
        "import matplotlib.pyplot as plt"
      ]
    },
    {
      "cell_type": "markdown",
      "id": "9c81f0de",
      "metadata": {
        "id": "9c81f0de"
      },
      "source": [
        "# Importing training data to a dataframe from csv"
      ]
    },
    {
      "cell_type": "code",
      "execution_count": 10,
      "id": "3ebcd035",
      "metadata": {
        "id": "3ebcd035"
      },
      "outputs": [],
      "source": [
        "df=pd.read_csv('train.csv')"
      ]
    },
    {
      "cell_type": "markdown",
      "id": "dbd656a5",
      "metadata": {
        "id": "dbd656a5"
      },
      "source": [
        "getting the shape of the dataframe"
      ]
    },
    {
      "cell_type": "code",
      "execution_count": 11,
      "id": "1b460182",
      "metadata": {
        "colab": {
          "base_uri": "https://localhost:8080/"
        },
        "id": "1b460182",
        "outputId": "aa2f13c6-3061-4fb0-84d0-231b84ac5304"
      },
      "outputs": [
        {
          "output_type": "execute_result",
          "data": {
            "text/plain": [
              "(45211, 11)"
            ]
          },
          "metadata": {},
          "execution_count": 11
        }
      ],
      "source": [
        "df.shape"
      ]
    },
    {
      "cell_type": "markdown",
      "id": "b9eab1d2",
      "metadata": {
        "id": "b9eab1d2"
      },
      "source": [
        "we can see that the df has 11 columns and 45211 rows\n"
      ]
    },
    {
      "cell_type": "code",
      "execution_count": 12,
      "id": "f57b8d0a",
      "metadata": {
        "colab": {
          "base_uri": "https://localhost:8080/",
          "height": 206
        },
        "id": "f57b8d0a",
        "outputId": "4d833fa3-6dfc-4c92-e059-af5bcd7840c4"
      },
      "outputs": [
        {
          "output_type": "execute_result",
          "data": {
            "text/plain": [
              "   age           job  marital education_qual call_type  day  mon  dur  \\\n",
              "0   58    management  married       tertiary   unknown    5  may  261   \n",
              "1   44    technician   single      secondary   unknown    5  may  151   \n",
              "2   33  entrepreneur  married      secondary   unknown    5  may   76   \n",
              "3   47   blue-collar  married        unknown   unknown    5  may   92   \n",
              "4   33       unknown   single        unknown   unknown    5  may  198   \n",
              "\n",
              "   num_calls prev_outcome   y  \n",
              "0          1      unknown  no  \n",
              "1          1      unknown  no  \n",
              "2          1      unknown  no  \n",
              "3          1      unknown  no  \n",
              "4          1      unknown  no  "
            ],
            "text/html": [
              "\n",
              "  <div id=\"df-44f52c89-f8bb-4797-88cd-97ebf98c4b78\" class=\"colab-df-container\">\n",
              "    <div>\n",
              "<style scoped>\n",
              "    .dataframe tbody tr th:only-of-type {\n",
              "        vertical-align: middle;\n",
              "    }\n",
              "\n",
              "    .dataframe tbody tr th {\n",
              "        vertical-align: top;\n",
              "    }\n",
              "\n",
              "    .dataframe thead th {\n",
              "        text-align: right;\n",
              "    }\n",
              "</style>\n",
              "<table border=\"1\" class=\"dataframe\">\n",
              "  <thead>\n",
              "    <tr style=\"text-align: right;\">\n",
              "      <th></th>\n",
              "      <th>age</th>\n",
              "      <th>job</th>\n",
              "      <th>marital</th>\n",
              "      <th>education_qual</th>\n",
              "      <th>call_type</th>\n",
              "      <th>day</th>\n",
              "      <th>mon</th>\n",
              "      <th>dur</th>\n",
              "      <th>num_calls</th>\n",
              "      <th>prev_outcome</th>\n",
              "      <th>y</th>\n",
              "    </tr>\n",
              "  </thead>\n",
              "  <tbody>\n",
              "    <tr>\n",
              "      <th>0</th>\n",
              "      <td>58</td>\n",
              "      <td>management</td>\n",
              "      <td>married</td>\n",
              "      <td>tertiary</td>\n",
              "      <td>unknown</td>\n",
              "      <td>5</td>\n",
              "      <td>may</td>\n",
              "      <td>261</td>\n",
              "      <td>1</td>\n",
              "      <td>unknown</td>\n",
              "      <td>no</td>\n",
              "    </tr>\n",
              "    <tr>\n",
              "      <th>1</th>\n",
              "      <td>44</td>\n",
              "      <td>technician</td>\n",
              "      <td>single</td>\n",
              "      <td>secondary</td>\n",
              "      <td>unknown</td>\n",
              "      <td>5</td>\n",
              "      <td>may</td>\n",
              "      <td>151</td>\n",
              "      <td>1</td>\n",
              "      <td>unknown</td>\n",
              "      <td>no</td>\n",
              "    </tr>\n",
              "    <tr>\n",
              "      <th>2</th>\n",
              "      <td>33</td>\n",
              "      <td>entrepreneur</td>\n",
              "      <td>married</td>\n",
              "      <td>secondary</td>\n",
              "      <td>unknown</td>\n",
              "      <td>5</td>\n",
              "      <td>may</td>\n",
              "      <td>76</td>\n",
              "      <td>1</td>\n",
              "      <td>unknown</td>\n",
              "      <td>no</td>\n",
              "    </tr>\n",
              "    <tr>\n",
              "      <th>3</th>\n",
              "      <td>47</td>\n",
              "      <td>blue-collar</td>\n",
              "      <td>married</td>\n",
              "      <td>unknown</td>\n",
              "      <td>unknown</td>\n",
              "      <td>5</td>\n",
              "      <td>may</td>\n",
              "      <td>92</td>\n",
              "      <td>1</td>\n",
              "      <td>unknown</td>\n",
              "      <td>no</td>\n",
              "    </tr>\n",
              "    <tr>\n",
              "      <th>4</th>\n",
              "      <td>33</td>\n",
              "      <td>unknown</td>\n",
              "      <td>single</td>\n",
              "      <td>unknown</td>\n",
              "      <td>unknown</td>\n",
              "      <td>5</td>\n",
              "      <td>may</td>\n",
              "      <td>198</td>\n",
              "      <td>1</td>\n",
              "      <td>unknown</td>\n",
              "      <td>no</td>\n",
              "    </tr>\n",
              "  </tbody>\n",
              "</table>\n",
              "</div>\n",
              "    <div class=\"colab-df-buttons\">\n",
              "\n",
              "  <div class=\"colab-df-container\">\n",
              "    <button class=\"colab-df-convert\" onclick=\"convertToInteractive('df-44f52c89-f8bb-4797-88cd-97ebf98c4b78')\"\n",
              "            title=\"Convert this dataframe to an interactive table.\"\n",
              "            style=\"display:none;\">\n",
              "\n",
              "  <svg xmlns=\"http://www.w3.org/2000/svg\" height=\"24px\" viewBox=\"0 -960 960 960\">\n",
              "    <path d=\"M120-120v-720h720v720H120Zm60-500h600v-160H180v160Zm220 220h160v-160H400v160Zm0 220h160v-160H400v160ZM180-400h160v-160H180v160Zm440 0h160v-160H620v160ZM180-180h160v-160H180v160Zm440 0h160v-160H620v160Z\"/>\n",
              "  </svg>\n",
              "    </button>\n",
              "\n",
              "  <style>\n",
              "    .colab-df-container {\n",
              "      display:flex;\n",
              "      gap: 12px;\n",
              "    }\n",
              "\n",
              "    .colab-df-convert {\n",
              "      background-color: #E8F0FE;\n",
              "      border: none;\n",
              "      border-radius: 50%;\n",
              "      cursor: pointer;\n",
              "      display: none;\n",
              "      fill: #1967D2;\n",
              "      height: 32px;\n",
              "      padding: 0 0 0 0;\n",
              "      width: 32px;\n",
              "    }\n",
              "\n",
              "    .colab-df-convert:hover {\n",
              "      background-color: #E2EBFA;\n",
              "      box-shadow: 0px 1px 2px rgba(60, 64, 67, 0.3), 0px 1px 3px 1px rgba(60, 64, 67, 0.15);\n",
              "      fill: #174EA6;\n",
              "    }\n",
              "\n",
              "    .colab-df-buttons div {\n",
              "      margin-bottom: 4px;\n",
              "    }\n",
              "\n",
              "    [theme=dark] .colab-df-convert {\n",
              "      background-color: #3B4455;\n",
              "      fill: #D2E3FC;\n",
              "    }\n",
              "\n",
              "    [theme=dark] .colab-df-convert:hover {\n",
              "      background-color: #434B5C;\n",
              "      box-shadow: 0px 1px 3px 1px rgba(0, 0, 0, 0.15);\n",
              "      filter: drop-shadow(0px 1px 2px rgba(0, 0, 0, 0.3));\n",
              "      fill: #FFFFFF;\n",
              "    }\n",
              "  </style>\n",
              "\n",
              "    <script>\n",
              "      const buttonEl =\n",
              "        document.querySelector('#df-44f52c89-f8bb-4797-88cd-97ebf98c4b78 button.colab-df-convert');\n",
              "      buttonEl.style.display =\n",
              "        google.colab.kernel.accessAllowed ? 'block' : 'none';\n",
              "\n",
              "      async function convertToInteractive(key) {\n",
              "        const element = document.querySelector('#df-44f52c89-f8bb-4797-88cd-97ebf98c4b78');\n",
              "        const dataTable =\n",
              "          await google.colab.kernel.invokeFunction('convertToInteractive',\n",
              "                                                    [key], {});\n",
              "        if (!dataTable) return;\n",
              "\n",
              "        const docLinkHtml = 'Like what you see? Visit the ' +\n",
              "          '<a target=\"_blank\" href=https://colab.research.google.com/notebooks/data_table.ipynb>data table notebook</a>'\n",
              "          + ' to learn more about interactive tables.';\n",
              "        element.innerHTML = '';\n",
              "        dataTable['output_type'] = 'display_data';\n",
              "        await google.colab.output.renderOutput(dataTable, element);\n",
              "        const docLink = document.createElement('div');\n",
              "        docLink.innerHTML = docLinkHtml;\n",
              "        element.appendChild(docLink);\n",
              "      }\n",
              "    </script>\n",
              "  </div>\n",
              "\n",
              "\n",
              "<div id=\"df-a7f53c9c-dca0-43fb-a299-7469e8e3ef9e\">\n",
              "  <button class=\"colab-df-quickchart\" onclick=\"quickchart('df-a7f53c9c-dca0-43fb-a299-7469e8e3ef9e')\"\n",
              "            title=\"Suggest charts\"\n",
              "            style=\"display:none;\">\n",
              "\n",
              "<svg xmlns=\"http://www.w3.org/2000/svg\" height=\"24px\"viewBox=\"0 0 24 24\"\n",
              "     width=\"24px\">\n",
              "    <g>\n",
              "        <path d=\"M19 3H5c-1.1 0-2 .9-2 2v14c0 1.1.9 2 2 2h14c1.1 0 2-.9 2-2V5c0-1.1-.9-2-2-2zM9 17H7v-7h2v7zm4 0h-2V7h2v10zm4 0h-2v-4h2v4z\"/>\n",
              "    </g>\n",
              "</svg>\n",
              "  </button>\n",
              "\n",
              "<style>\n",
              "  .colab-df-quickchart {\n",
              "      --bg-color: #E8F0FE;\n",
              "      --fill-color: #1967D2;\n",
              "      --hover-bg-color: #E2EBFA;\n",
              "      --hover-fill-color: #174EA6;\n",
              "      --disabled-fill-color: #AAA;\n",
              "      --disabled-bg-color: #DDD;\n",
              "  }\n",
              "\n",
              "  [theme=dark] .colab-df-quickchart {\n",
              "      --bg-color: #3B4455;\n",
              "      --fill-color: #D2E3FC;\n",
              "      --hover-bg-color: #434B5C;\n",
              "      --hover-fill-color: #FFFFFF;\n",
              "      --disabled-bg-color: #3B4455;\n",
              "      --disabled-fill-color: #666;\n",
              "  }\n",
              "\n",
              "  .colab-df-quickchart {\n",
              "    background-color: var(--bg-color);\n",
              "    border: none;\n",
              "    border-radius: 50%;\n",
              "    cursor: pointer;\n",
              "    display: none;\n",
              "    fill: var(--fill-color);\n",
              "    height: 32px;\n",
              "    padding: 0;\n",
              "    width: 32px;\n",
              "  }\n",
              "\n",
              "  .colab-df-quickchart:hover {\n",
              "    background-color: var(--hover-bg-color);\n",
              "    box-shadow: 0 1px 2px rgba(60, 64, 67, 0.3), 0 1px 3px 1px rgba(60, 64, 67, 0.15);\n",
              "    fill: var(--button-hover-fill-color);\n",
              "  }\n",
              "\n",
              "  .colab-df-quickchart-complete:disabled,\n",
              "  .colab-df-quickchart-complete:disabled:hover {\n",
              "    background-color: var(--disabled-bg-color);\n",
              "    fill: var(--disabled-fill-color);\n",
              "    box-shadow: none;\n",
              "  }\n",
              "\n",
              "  .colab-df-spinner {\n",
              "    border: 2px solid var(--fill-color);\n",
              "    border-color: transparent;\n",
              "    border-bottom-color: var(--fill-color);\n",
              "    animation:\n",
              "      spin 1s steps(1) infinite;\n",
              "  }\n",
              "\n",
              "  @keyframes spin {\n",
              "    0% {\n",
              "      border-color: transparent;\n",
              "      border-bottom-color: var(--fill-color);\n",
              "      border-left-color: var(--fill-color);\n",
              "    }\n",
              "    20% {\n",
              "      border-color: transparent;\n",
              "      border-left-color: var(--fill-color);\n",
              "      border-top-color: var(--fill-color);\n",
              "    }\n",
              "    30% {\n",
              "      border-color: transparent;\n",
              "      border-left-color: var(--fill-color);\n",
              "      border-top-color: var(--fill-color);\n",
              "      border-right-color: var(--fill-color);\n",
              "    }\n",
              "    40% {\n",
              "      border-color: transparent;\n",
              "      border-right-color: var(--fill-color);\n",
              "      border-top-color: var(--fill-color);\n",
              "    }\n",
              "    60% {\n",
              "      border-color: transparent;\n",
              "      border-right-color: var(--fill-color);\n",
              "    }\n",
              "    80% {\n",
              "      border-color: transparent;\n",
              "      border-right-color: var(--fill-color);\n",
              "      border-bottom-color: var(--fill-color);\n",
              "    }\n",
              "    90% {\n",
              "      border-color: transparent;\n",
              "      border-bottom-color: var(--fill-color);\n",
              "    }\n",
              "  }\n",
              "</style>\n",
              "\n",
              "  <script>\n",
              "    async function quickchart(key) {\n",
              "      const quickchartButtonEl =\n",
              "        document.querySelector('#' + key + ' button');\n",
              "      quickchartButtonEl.disabled = true;  // To prevent multiple clicks.\n",
              "      quickchartButtonEl.classList.add('colab-df-spinner');\n",
              "      try {\n",
              "        const charts = await google.colab.kernel.invokeFunction(\n",
              "            'suggestCharts', [key], {});\n",
              "      } catch (error) {\n",
              "        console.error('Error during call to suggestCharts:', error);\n",
              "      }\n",
              "      quickchartButtonEl.classList.remove('colab-df-spinner');\n",
              "      quickchartButtonEl.classList.add('colab-df-quickchart-complete');\n",
              "    }\n",
              "    (() => {\n",
              "      let quickchartButtonEl =\n",
              "        document.querySelector('#df-a7f53c9c-dca0-43fb-a299-7469e8e3ef9e button');\n",
              "      quickchartButtonEl.style.display =\n",
              "        google.colab.kernel.accessAllowed ? 'block' : 'none';\n",
              "    })();\n",
              "  </script>\n",
              "</div>\n",
              "    </div>\n",
              "  </div>\n"
            ]
          },
          "metadata": {},
          "execution_count": 12
        }
      ],
      "source": [
        "df.head()"
      ]
    },
    {
      "cell_type": "markdown",
      "id": "7cf179b2",
      "metadata": {
        "id": "7cf179b2"
      },
      "source": [
        "## Analysing the data"
      ]
    },
    {
      "cell_type": "code",
      "execution_count": 13,
      "id": "8167bf52",
      "metadata": {
        "colab": {
          "base_uri": "https://localhost:8080/"
        },
        "id": "8167bf52",
        "outputId": "a686d18a-edcc-4506-fbc4-db95ac04101c"
      },
      "outputs": [
        {
          "output_type": "execute_result",
          "data": {
            "text/plain": [
              "Index(['age', 'job', 'marital', 'education_qual', 'call_type', 'day', 'mon',\n",
              "       'dur', 'num_calls', 'prev_outcome', 'y'],\n",
              "      dtype='object')"
            ]
          },
          "metadata": {},
          "execution_count": 13
        }
      ],
      "source": [
        "df.columns"
      ]
    },
    {
      "cell_type": "code",
      "execution_count": 14,
      "id": "42e4c0d7",
      "metadata": {
        "colab": {
          "base_uri": "https://localhost:8080/",
          "height": 300
        },
        "id": "42e4c0d7",
        "outputId": "354fe403-18dd-45c5-9d22-efb65cbe99a0"
      },
      "outputs": [
        {
          "output_type": "execute_result",
          "data": {
            "text/plain": [
              "                age           day           dur     num_calls\n",
              "count  45211.000000  45211.000000  45211.000000  45211.000000\n",
              "mean      40.936210     15.806419    258.163080      2.763841\n",
              "std       10.618762      8.322476    257.527812      3.098021\n",
              "min       18.000000      1.000000      0.000000      1.000000\n",
              "25%       33.000000      8.000000    103.000000      1.000000\n",
              "50%       39.000000     16.000000    180.000000      2.000000\n",
              "75%       48.000000     21.000000    319.000000      3.000000\n",
              "max       95.000000     31.000000   4918.000000     63.000000"
            ],
            "text/html": [
              "\n",
              "  <div id=\"df-467f7952-513b-484c-8fe3-29cc537d92bf\" class=\"colab-df-container\">\n",
              "    <div>\n",
              "<style scoped>\n",
              "    .dataframe tbody tr th:only-of-type {\n",
              "        vertical-align: middle;\n",
              "    }\n",
              "\n",
              "    .dataframe tbody tr th {\n",
              "        vertical-align: top;\n",
              "    }\n",
              "\n",
              "    .dataframe thead th {\n",
              "        text-align: right;\n",
              "    }\n",
              "</style>\n",
              "<table border=\"1\" class=\"dataframe\">\n",
              "  <thead>\n",
              "    <tr style=\"text-align: right;\">\n",
              "      <th></th>\n",
              "      <th>age</th>\n",
              "      <th>day</th>\n",
              "      <th>dur</th>\n",
              "      <th>num_calls</th>\n",
              "    </tr>\n",
              "  </thead>\n",
              "  <tbody>\n",
              "    <tr>\n",
              "      <th>count</th>\n",
              "      <td>45211.000000</td>\n",
              "      <td>45211.000000</td>\n",
              "      <td>45211.000000</td>\n",
              "      <td>45211.000000</td>\n",
              "    </tr>\n",
              "    <tr>\n",
              "      <th>mean</th>\n",
              "      <td>40.936210</td>\n",
              "      <td>15.806419</td>\n",
              "      <td>258.163080</td>\n",
              "      <td>2.763841</td>\n",
              "    </tr>\n",
              "    <tr>\n",
              "      <th>std</th>\n",
              "      <td>10.618762</td>\n",
              "      <td>8.322476</td>\n",
              "      <td>257.527812</td>\n",
              "      <td>3.098021</td>\n",
              "    </tr>\n",
              "    <tr>\n",
              "      <th>min</th>\n",
              "      <td>18.000000</td>\n",
              "      <td>1.000000</td>\n",
              "      <td>0.000000</td>\n",
              "      <td>1.000000</td>\n",
              "    </tr>\n",
              "    <tr>\n",
              "      <th>25%</th>\n",
              "      <td>33.000000</td>\n",
              "      <td>8.000000</td>\n",
              "      <td>103.000000</td>\n",
              "      <td>1.000000</td>\n",
              "    </tr>\n",
              "    <tr>\n",
              "      <th>50%</th>\n",
              "      <td>39.000000</td>\n",
              "      <td>16.000000</td>\n",
              "      <td>180.000000</td>\n",
              "      <td>2.000000</td>\n",
              "    </tr>\n",
              "    <tr>\n",
              "      <th>75%</th>\n",
              "      <td>48.000000</td>\n",
              "      <td>21.000000</td>\n",
              "      <td>319.000000</td>\n",
              "      <td>3.000000</td>\n",
              "    </tr>\n",
              "    <tr>\n",
              "      <th>max</th>\n",
              "      <td>95.000000</td>\n",
              "      <td>31.000000</td>\n",
              "      <td>4918.000000</td>\n",
              "      <td>63.000000</td>\n",
              "    </tr>\n",
              "  </tbody>\n",
              "</table>\n",
              "</div>\n",
              "    <div class=\"colab-df-buttons\">\n",
              "\n",
              "  <div class=\"colab-df-container\">\n",
              "    <button class=\"colab-df-convert\" onclick=\"convertToInteractive('df-467f7952-513b-484c-8fe3-29cc537d92bf')\"\n",
              "            title=\"Convert this dataframe to an interactive table.\"\n",
              "            style=\"display:none;\">\n",
              "\n",
              "  <svg xmlns=\"http://www.w3.org/2000/svg\" height=\"24px\" viewBox=\"0 -960 960 960\">\n",
              "    <path d=\"M120-120v-720h720v720H120Zm60-500h600v-160H180v160Zm220 220h160v-160H400v160Zm0 220h160v-160H400v160ZM180-400h160v-160H180v160Zm440 0h160v-160H620v160ZM180-180h160v-160H180v160Zm440 0h160v-160H620v160Z\"/>\n",
              "  </svg>\n",
              "    </button>\n",
              "\n",
              "  <style>\n",
              "    .colab-df-container {\n",
              "      display:flex;\n",
              "      gap: 12px;\n",
              "    }\n",
              "\n",
              "    .colab-df-convert {\n",
              "      background-color: #E8F0FE;\n",
              "      border: none;\n",
              "      border-radius: 50%;\n",
              "      cursor: pointer;\n",
              "      display: none;\n",
              "      fill: #1967D2;\n",
              "      height: 32px;\n",
              "      padding: 0 0 0 0;\n",
              "      width: 32px;\n",
              "    }\n",
              "\n",
              "    .colab-df-convert:hover {\n",
              "      background-color: #E2EBFA;\n",
              "      box-shadow: 0px 1px 2px rgba(60, 64, 67, 0.3), 0px 1px 3px 1px rgba(60, 64, 67, 0.15);\n",
              "      fill: #174EA6;\n",
              "    }\n",
              "\n",
              "    .colab-df-buttons div {\n",
              "      margin-bottom: 4px;\n",
              "    }\n",
              "\n",
              "    [theme=dark] .colab-df-convert {\n",
              "      background-color: #3B4455;\n",
              "      fill: #D2E3FC;\n",
              "    }\n",
              "\n",
              "    [theme=dark] .colab-df-convert:hover {\n",
              "      background-color: #434B5C;\n",
              "      box-shadow: 0px 1px 3px 1px rgba(0, 0, 0, 0.15);\n",
              "      filter: drop-shadow(0px 1px 2px rgba(0, 0, 0, 0.3));\n",
              "      fill: #FFFFFF;\n",
              "    }\n",
              "  </style>\n",
              "\n",
              "    <script>\n",
              "      const buttonEl =\n",
              "        document.querySelector('#df-467f7952-513b-484c-8fe3-29cc537d92bf button.colab-df-convert');\n",
              "      buttonEl.style.display =\n",
              "        google.colab.kernel.accessAllowed ? 'block' : 'none';\n",
              "\n",
              "      async function convertToInteractive(key) {\n",
              "        const element = document.querySelector('#df-467f7952-513b-484c-8fe3-29cc537d92bf');\n",
              "        const dataTable =\n",
              "          await google.colab.kernel.invokeFunction('convertToInteractive',\n",
              "                                                    [key], {});\n",
              "        if (!dataTable) return;\n",
              "\n",
              "        const docLinkHtml = 'Like what you see? Visit the ' +\n",
              "          '<a target=\"_blank\" href=https://colab.research.google.com/notebooks/data_table.ipynb>data table notebook</a>'\n",
              "          + ' to learn more about interactive tables.';\n",
              "        element.innerHTML = '';\n",
              "        dataTable['output_type'] = 'display_data';\n",
              "        await google.colab.output.renderOutput(dataTable, element);\n",
              "        const docLink = document.createElement('div');\n",
              "        docLink.innerHTML = docLinkHtml;\n",
              "        element.appendChild(docLink);\n",
              "      }\n",
              "    </script>\n",
              "  </div>\n",
              "\n",
              "\n",
              "<div id=\"df-84bc28ba-5229-42da-9666-35ce17b61fb1\">\n",
              "  <button class=\"colab-df-quickchart\" onclick=\"quickchart('df-84bc28ba-5229-42da-9666-35ce17b61fb1')\"\n",
              "            title=\"Suggest charts\"\n",
              "            style=\"display:none;\">\n",
              "\n",
              "<svg xmlns=\"http://www.w3.org/2000/svg\" height=\"24px\"viewBox=\"0 0 24 24\"\n",
              "     width=\"24px\">\n",
              "    <g>\n",
              "        <path d=\"M19 3H5c-1.1 0-2 .9-2 2v14c0 1.1.9 2 2 2h14c1.1 0 2-.9 2-2V5c0-1.1-.9-2-2-2zM9 17H7v-7h2v7zm4 0h-2V7h2v10zm4 0h-2v-4h2v4z\"/>\n",
              "    </g>\n",
              "</svg>\n",
              "  </button>\n",
              "\n",
              "<style>\n",
              "  .colab-df-quickchart {\n",
              "      --bg-color: #E8F0FE;\n",
              "      --fill-color: #1967D2;\n",
              "      --hover-bg-color: #E2EBFA;\n",
              "      --hover-fill-color: #174EA6;\n",
              "      --disabled-fill-color: #AAA;\n",
              "      --disabled-bg-color: #DDD;\n",
              "  }\n",
              "\n",
              "  [theme=dark] .colab-df-quickchart {\n",
              "      --bg-color: #3B4455;\n",
              "      --fill-color: #D2E3FC;\n",
              "      --hover-bg-color: #434B5C;\n",
              "      --hover-fill-color: #FFFFFF;\n",
              "      --disabled-bg-color: #3B4455;\n",
              "      --disabled-fill-color: #666;\n",
              "  }\n",
              "\n",
              "  .colab-df-quickchart {\n",
              "    background-color: var(--bg-color);\n",
              "    border: none;\n",
              "    border-radius: 50%;\n",
              "    cursor: pointer;\n",
              "    display: none;\n",
              "    fill: var(--fill-color);\n",
              "    height: 32px;\n",
              "    padding: 0;\n",
              "    width: 32px;\n",
              "  }\n",
              "\n",
              "  .colab-df-quickchart:hover {\n",
              "    background-color: var(--hover-bg-color);\n",
              "    box-shadow: 0 1px 2px rgba(60, 64, 67, 0.3), 0 1px 3px 1px rgba(60, 64, 67, 0.15);\n",
              "    fill: var(--button-hover-fill-color);\n",
              "  }\n",
              "\n",
              "  .colab-df-quickchart-complete:disabled,\n",
              "  .colab-df-quickchart-complete:disabled:hover {\n",
              "    background-color: var(--disabled-bg-color);\n",
              "    fill: var(--disabled-fill-color);\n",
              "    box-shadow: none;\n",
              "  }\n",
              "\n",
              "  .colab-df-spinner {\n",
              "    border: 2px solid var(--fill-color);\n",
              "    border-color: transparent;\n",
              "    border-bottom-color: var(--fill-color);\n",
              "    animation:\n",
              "      spin 1s steps(1) infinite;\n",
              "  }\n",
              "\n",
              "  @keyframes spin {\n",
              "    0% {\n",
              "      border-color: transparent;\n",
              "      border-bottom-color: var(--fill-color);\n",
              "      border-left-color: var(--fill-color);\n",
              "    }\n",
              "    20% {\n",
              "      border-color: transparent;\n",
              "      border-left-color: var(--fill-color);\n",
              "      border-top-color: var(--fill-color);\n",
              "    }\n",
              "    30% {\n",
              "      border-color: transparent;\n",
              "      border-left-color: var(--fill-color);\n",
              "      border-top-color: var(--fill-color);\n",
              "      border-right-color: var(--fill-color);\n",
              "    }\n",
              "    40% {\n",
              "      border-color: transparent;\n",
              "      border-right-color: var(--fill-color);\n",
              "      border-top-color: var(--fill-color);\n",
              "    }\n",
              "    60% {\n",
              "      border-color: transparent;\n",
              "      border-right-color: var(--fill-color);\n",
              "    }\n",
              "    80% {\n",
              "      border-color: transparent;\n",
              "      border-right-color: var(--fill-color);\n",
              "      border-bottom-color: var(--fill-color);\n",
              "    }\n",
              "    90% {\n",
              "      border-color: transparent;\n",
              "      border-bottom-color: var(--fill-color);\n",
              "    }\n",
              "  }\n",
              "</style>\n",
              "\n",
              "  <script>\n",
              "    async function quickchart(key) {\n",
              "      const quickchartButtonEl =\n",
              "        document.querySelector('#' + key + ' button');\n",
              "      quickchartButtonEl.disabled = true;  // To prevent multiple clicks.\n",
              "      quickchartButtonEl.classList.add('colab-df-spinner');\n",
              "      try {\n",
              "        const charts = await google.colab.kernel.invokeFunction(\n",
              "            'suggestCharts', [key], {});\n",
              "      } catch (error) {\n",
              "        console.error('Error during call to suggestCharts:', error);\n",
              "      }\n",
              "      quickchartButtonEl.classList.remove('colab-df-spinner');\n",
              "      quickchartButtonEl.classList.add('colab-df-quickchart-complete');\n",
              "    }\n",
              "    (() => {\n",
              "      let quickchartButtonEl =\n",
              "        document.querySelector('#df-84bc28ba-5229-42da-9666-35ce17b61fb1 button');\n",
              "      quickchartButtonEl.style.display =\n",
              "        google.colab.kernel.accessAllowed ? 'block' : 'none';\n",
              "    })();\n",
              "  </script>\n",
              "</div>\n",
              "    </div>\n",
              "  </div>\n"
            ]
          },
          "metadata": {},
          "execution_count": 14
        }
      ],
      "source": [
        "df.describe()"
      ]
    },
    {
      "cell_type": "markdown",
      "id": "8d5e2a9c",
      "metadata": {
        "id": "8d5e2a9c"
      },
      "source": [
        "basic stats of the given data"
      ]
    },
    {
      "cell_type": "markdown",
      "id": "6abba0dd",
      "metadata": {
        "id": "6abba0dd"
      },
      "source": [
        "to see the type of data i.e, Balanced or Imbalanced we check the 'y' that shows the status of the consumer if yes or no"
      ]
    },
    {
      "cell_type": "code",
      "execution_count": 15,
      "id": "ba60db03",
      "metadata": {
        "colab": {
          "base_uri": "https://localhost:8080/"
        },
        "id": "ba60db03",
        "outputId": "60d73399-dab2-464b-8d29-32832367a277"
      },
      "outputs": [
        {
          "output_type": "execute_result",
          "data": {
            "text/plain": [
              "no     39922\n",
              "yes     5289\n",
              "Name: y, dtype: int64"
            ]
          },
          "metadata": {},
          "execution_count": 15
        }
      ],
      "source": [
        "df['y'].value_counts()"
      ]
    },
    {
      "cell_type": "markdown",
      "id": "3a4b828e",
      "metadata": {
        "id": "3a4b828e"
      },
      "source": [
        "it is an unbalanced dataset"
      ]
    },
    {
      "cell_type": "code",
      "execution_count": 16,
      "id": "977886a2",
      "metadata": {
        "colab": {
          "base_uri": "https://localhost:8080/"
        },
        "id": "977886a2",
        "outputId": "7b5c6aab-e13e-4855-b8b9-347336a97145"
      },
      "outputs": [
        {
          "output_type": "stream",
          "name": "stdout",
          "text": [
            "yes percentage:  11.698480458295547\n",
            "no percentage:  88.30151954170445\n"
          ]
        }
      ],
      "source": [
        "print(\"yes percentage: \",5289*100/(39922+5289))\n",
        "print(\"no percentage: \",39922*100/(39922+5289))"
      ]
    },
    {
      "cell_type": "markdown",
      "id": "c2b5a81a",
      "metadata": {
        "id": "c2b5a81a"
      },
      "source": [
        "88.6 percent have not converted and 11.7 percent have converted"
      ]
    },
    {
      "cell_type": "markdown",
      "id": "96e9b786",
      "metadata": {
        "id": "96e9b786"
      },
      "source": [
        "# Data preprocessing"
      ]
    },
    {
      "cell_type": "code",
      "execution_count": 17,
      "id": "d5038b1e",
      "metadata": {
        "colab": {
          "base_uri": "https://localhost:8080/"
        },
        "id": "d5038b1e",
        "outputId": "7c52a1a1-d8af-4dc7-8b9e-cde263e8e61e"
      },
      "outputs": [
        {
          "output_type": "execute_result",
          "data": {
            "text/plain": [
              "age               0\n",
              "job               0\n",
              "marital           0\n",
              "education_qual    0\n",
              "call_type         0\n",
              "day               0\n",
              "mon               0\n",
              "dur               0\n",
              "num_calls         0\n",
              "prev_outcome      0\n",
              "y                 0\n",
              "dtype: int64"
            ]
          },
          "metadata": {},
          "execution_count": 17
        }
      ],
      "source": [
        "df.isnull().sum()"
      ]
    },
    {
      "cell_type": "markdown",
      "id": "d3d077aa",
      "metadata": {
        "id": "d3d077aa"
      },
      "source": [
        "There are no null values to be processed"
      ]
    },
    {
      "cell_type": "code",
      "execution_count": 18,
      "id": "15c28198",
      "metadata": {
        "colab": {
          "base_uri": "https://localhost:8080/"
        },
        "id": "15c28198",
        "outputId": "3ed4f3cb-17de-4f79-e08d-302f6db1de86"
      },
      "outputs": [
        {
          "output_type": "execute_result",
          "data": {
            "text/plain": [
              "6"
            ]
          },
          "metadata": {},
          "execution_count": 18
        }
      ],
      "source": [
        "df.duplicated().sum()"
      ]
    },
    {
      "cell_type": "code",
      "execution_count": 19,
      "id": "188fa1f5",
      "metadata": {
        "id": "188fa1f5"
      },
      "outputs": [],
      "source": [
        "df=df.drop_duplicates()"
      ]
    },
    {
      "cell_type": "code",
      "execution_count": 20,
      "id": "d33fdb04",
      "metadata": {
        "colab": {
          "base_uri": "https://localhost:8080/"
        },
        "id": "d33fdb04",
        "outputId": "f19471df-2e75-4411-a786-fcc2a68ac9cf"
      },
      "outputs": [
        {
          "output_type": "execute_result",
          "data": {
            "text/plain": [
              "0"
            ]
          },
          "metadata": {},
          "execution_count": 20
        }
      ],
      "source": [
        "df.duplicated().sum()"
      ]
    },
    {
      "cell_type": "markdown",
      "id": "61d0c6ee",
      "metadata": {
        "id": "61d0c6ee"
      },
      "source": [
        "duplicates removed"
      ]
    },
    {
      "cell_type": "code",
      "execution_count": 21,
      "id": "e53d1fb1",
      "metadata": {
        "colab": {
          "base_uri": "https://localhost:8080/"
        },
        "id": "e53d1fb1",
        "outputId": "ae4c8a7a-dacc-4d29-cbf4-7caf7e4cfdab"
      },
      "outputs": [
        {
          "output_type": "execute_result",
          "data": {
            "text/plain": [
              "age                int64\n",
              "job               object\n",
              "marital           object\n",
              "education_qual    object\n",
              "call_type         object\n",
              "day                int64\n",
              "mon               object\n",
              "dur                int64\n",
              "num_calls          int64\n",
              "prev_outcome      object\n",
              "y                 object\n",
              "dtype: object"
            ]
          },
          "metadata": {},
          "execution_count": 21
        }
      ],
      "source": [
        "df.dtypes"
      ]
    },
    {
      "cell_type": "markdown",
      "id": "0ac2610b",
      "metadata": {
        "id": "0ac2610b"
      },
      "source": [
        "# Unique values from catagorical columns"
      ]
    },
    {
      "cell_type": "markdown",
      "id": "353d67d5",
      "metadata": {
        "id": "353d67d5"
      },
      "source": [
        "from the above data we can see that there is catagorical data in job, marital,education,calltype, mon,prev outcome and y columns"
      ]
    },
    {
      "cell_type": "code",
      "execution_count": 22,
      "id": "265a0a51",
      "metadata": {
        "colab": {
          "base_uri": "https://localhost:8080/"
        },
        "id": "265a0a51",
        "outputId": "be60f87d-29d6-4506-90e1-d81056f6f0f1"
      },
      "outputs": [
        {
          "output_type": "execute_result",
          "data": {
            "text/plain": [
              "array(['management', 'technician', 'entrepreneur', 'blue-collar',\n",
              "       'unknown', 'retired', 'admin.', 'services', 'self-employed',\n",
              "       'unemployed', 'housemaid', 'student'], dtype=object)"
            ]
          },
          "metadata": {},
          "execution_count": 22
        }
      ],
      "source": [
        "df['job'].unique()"
      ]
    },
    {
      "cell_type": "code",
      "execution_count": 23,
      "id": "40007045",
      "metadata": {
        "colab": {
          "base_uri": "https://localhost:8080/"
        },
        "id": "40007045",
        "outputId": "885f4d6d-4c48-4661-ad38-3d726d99d218"
      },
      "outputs": [
        {
          "output_type": "execute_result",
          "data": {
            "text/plain": [
              "array(['married', 'single', 'divorced'], dtype=object)"
            ]
          },
          "metadata": {},
          "execution_count": 23
        }
      ],
      "source": [
        "df['marital'].unique()"
      ]
    },
    {
      "cell_type": "code",
      "execution_count": 24,
      "id": "ff32b7ef",
      "metadata": {
        "colab": {
          "base_uri": "https://localhost:8080/"
        },
        "id": "ff32b7ef",
        "outputId": "9973dac1-b9db-4ce8-abb6-a5297c369ec8"
      },
      "outputs": [
        {
          "output_type": "execute_result",
          "data": {
            "text/plain": [
              "array(['tertiary', 'secondary', 'unknown', 'primary'], dtype=object)"
            ]
          },
          "metadata": {},
          "execution_count": 24
        }
      ],
      "source": [
        "df['education_qual'].unique()"
      ]
    },
    {
      "cell_type": "code",
      "execution_count": 25,
      "id": "b97cc48a",
      "metadata": {
        "colab": {
          "base_uri": "https://localhost:8080/"
        },
        "id": "b97cc48a",
        "outputId": "12894230-c033-4669-f561-81129e1edecd"
      },
      "outputs": [
        {
          "output_type": "execute_result",
          "data": {
            "text/plain": [
              "array(['unknown', 'cellular', 'telephone'], dtype=object)"
            ]
          },
          "metadata": {},
          "execution_count": 25
        }
      ],
      "source": [
        "df['call_type'].unique()"
      ]
    },
    {
      "cell_type": "code",
      "execution_count": 26,
      "id": "939ffbe8",
      "metadata": {
        "colab": {
          "base_uri": "https://localhost:8080/"
        },
        "id": "939ffbe8",
        "outputId": "4fb34db2-a1ec-4a0c-b147-e7975aa779af"
      },
      "outputs": [
        {
          "output_type": "execute_result",
          "data": {
            "text/plain": [
              "array(['may', 'jun', 'jul', 'aug', 'oct', 'nov', 'dec', 'jan', 'feb',\n",
              "       'mar', 'apr', 'sep'], dtype=object)"
            ]
          },
          "metadata": {},
          "execution_count": 26
        }
      ],
      "source": [
        "df['mon'].unique()"
      ]
    },
    {
      "cell_type": "code",
      "execution_count": 27,
      "id": "5322b735",
      "metadata": {
        "colab": {
          "base_uri": "https://localhost:8080/"
        },
        "id": "5322b735",
        "outputId": "124062d6-79d1-4883-f702-2ee260e08364"
      },
      "outputs": [
        {
          "output_type": "execute_result",
          "data": {
            "text/plain": [
              "array(['unknown', 'failure', 'other', 'success'], dtype=object)"
            ]
          },
          "metadata": {},
          "execution_count": 27
        }
      ],
      "source": [
        "df['prev_outcome'].unique()"
      ]
    },
    {
      "cell_type": "code",
      "execution_count": 28,
      "id": "ebe527e8",
      "metadata": {
        "colab": {
          "base_uri": "https://localhost:8080/"
        },
        "id": "ebe527e8",
        "outputId": "13ba51fb-18b0-4488-c432-e2fa27cb0a92"
      },
      "outputs": [
        {
          "output_type": "execute_result",
          "data": {
            "text/plain": [
              "array(['no', 'yes'], dtype=object)"
            ]
          },
          "metadata": {},
          "execution_count": 28
        }
      ],
      "source": [
        "df['y'].unique()"
      ]
    },
    {
      "cell_type": "markdown",
      "id": "ebe8cb44",
      "metadata": {
        "id": "ebe8cb44"
      },
      "source": [
        "# Cleaning"
      ]
    },
    {
      "cell_type": "code",
      "execution_count": 29,
      "id": "26178a6f",
      "metadata": {
        "colab": {
          "base_uri": "https://localhost:8080/"
        },
        "id": "26178a6f",
        "outputId": "22f45208-e16e-4843-fad6-3e68a6997a8d"
      },
      "outputs": [
        {
          "output_type": "execute_result",
          "data": {
            "text/plain": [
              "Index(['age', 'job', 'marital', 'education_qual', 'call_type', 'day', 'mon',\n",
              "       'dur', 'num_calls', 'prev_outcome', 'y'],\n",
              "      dtype='object')"
            ]
          },
          "metadata": {},
          "execution_count": 29
        }
      ],
      "source": [
        "df.columns"
      ]
    },
    {
      "cell_type": "code",
      "execution_count": 30,
      "id": "d127d43b",
      "metadata": {
        "colab": {
          "base_uri": "https://localhost:8080/"
        },
        "id": "d127d43b",
        "outputId": "bc5e89c7-2318-4b93-bdb8-74a68328bd1c"
      },
      "outputs": [
        {
          "output_type": "execute_result",
          "data": {
            "text/plain": [
              "32    2084\n",
              "31    1996\n",
              "33    1972\n",
              "34    1929\n",
              "35    1894\n",
              "      ... \n",
              "93       2\n",
              "90       2\n",
              "95       2\n",
              "88       2\n",
              "94       1\n",
              "Name: age, Length: 77, dtype: int64"
            ]
          },
          "metadata": {},
          "execution_count": 30
        }
      ],
      "source": [
        "df.age.value_counts()"
      ]
    },
    {
      "cell_type": "code",
      "execution_count": 31,
      "id": "78b1b3b7",
      "metadata": {
        "colab": {
          "base_uri": "https://localhost:8080/"
        },
        "id": "78b1b3b7",
        "outputId": "994700dd-7ff9-48a1-de49-3d672f0562c8"
      },
      "outputs": [
        {
          "output_type": "execute_result",
          "data": {
            "text/plain": [
              "0"
            ]
          },
          "metadata": {},
          "execution_count": 31
        }
      ],
      "source": [
        "df.age.isna().sum()"
      ]
    },
    {
      "cell_type": "markdown",
      "id": "5d9f53ce",
      "metadata": {
        "id": "5d9f53ce"
      },
      "source": [
        "no null values in age column"
      ]
    },
    {
      "cell_type": "code",
      "execution_count": 32,
      "id": "fe2568ea",
      "metadata": {
        "colab": {
          "base_uri": "https://localhost:8080/"
        },
        "id": "fe2568ea",
        "outputId": "28a471db-0b6c-4b2c-b7eb-b8b57cb9dfeb"
      },
      "outputs": [
        {
          "output_type": "execute_result",
          "data": {
            "text/plain": [
              "blue-collar      9730\n",
              "management       9457\n",
              "technician       7596\n",
              "admin.           5170\n",
              "services         4153\n",
              "retired          2264\n",
              "self-employed    1579\n",
              "entrepreneur     1487\n",
              "unemployed       1303\n",
              "housemaid        1240\n",
              "student           938\n",
              "unknown           288\n",
              "Name: job, dtype: int64"
            ]
          },
          "metadata": {},
          "execution_count": 32
        }
      ],
      "source": [
        "df.job.value_counts()"
      ]
    },
    {
      "cell_type": "code",
      "execution_count": 33,
      "id": "af779fbc",
      "metadata": {
        "id": "af779fbc"
      },
      "outputs": [],
      "source": [
        "df.job=df.job.replace('unknown','blue-collar')"
      ]
    },
    {
      "cell_type": "code",
      "execution_count": 34,
      "id": "bfa3d3d9",
      "metadata": {
        "colab": {
          "base_uri": "https://localhost:8080/"
        },
        "id": "bfa3d3d9",
        "outputId": "2ea56f7f-9c6b-454b-c6d3-5bd3bf41e2d7"
      },
      "outputs": [
        {
          "output_type": "execute_result",
          "data": {
            "text/plain": [
              "blue-collar      10018\n",
              "management        9457\n",
              "technician        7596\n",
              "admin.            5170\n",
              "services          4153\n",
              "retired           2264\n",
              "self-employed     1579\n",
              "entrepreneur      1487\n",
              "unemployed        1303\n",
              "housemaid         1240\n",
              "student            938\n",
              "Name: job, dtype: int64"
            ]
          },
          "metadata": {},
          "execution_count": 34
        }
      ],
      "source": [
        "df.job.value_counts()"
      ]
    },
    {
      "cell_type": "markdown",
      "id": "ff950604",
      "metadata": {
        "id": "ff950604"
      },
      "source": [
        "replaced unknown values with mode"
      ]
    },
    {
      "cell_type": "code",
      "execution_count": 35,
      "id": "8966f4d0",
      "metadata": {
        "colab": {
          "base_uri": "https://localhost:8080/"
        },
        "id": "8966f4d0",
        "outputId": "8eb6a0a9-dd49-4c79-a40c-315d22698cec"
      },
      "outputs": [
        {
          "output_type": "execute_result",
          "data": {
            "text/plain": [
              "married     27210\n",
              "single      12788\n",
              "divorced     5207\n",
              "Name: marital, dtype: int64"
            ]
          },
          "metadata": {},
          "execution_count": 35
        }
      ],
      "source": [
        "df.marital.value_counts()"
      ]
    },
    {
      "cell_type": "markdown",
      "id": "a15be1ee",
      "metadata": {
        "id": "a15be1ee"
      },
      "source": [
        "nothing to replace"
      ]
    },
    {
      "cell_type": "code",
      "execution_count": 36,
      "id": "23d069c5",
      "metadata": {
        "colab": {
          "base_uri": "https://localhost:8080/"
        },
        "id": "23d069c5",
        "outputId": "a90e9a17-932e-4385-c342-334a25e41851"
      },
      "outputs": [
        {
          "output_type": "execute_result",
          "data": {
            "text/plain": [
              "secondary    23199\n",
              "tertiary     13299\n",
              "primary       6850\n",
              "unknown       1857\n",
              "Name: education_qual, dtype: int64"
            ]
          },
          "metadata": {},
          "execution_count": 36
        }
      ],
      "source": [
        "df.education_qual.value_counts()"
      ]
    },
    {
      "cell_type": "markdown",
      "id": "a0d20689",
      "metadata": {
        "id": "a0d20689"
      },
      "source": [
        "replacing unknown with mode\n"
      ]
    },
    {
      "cell_type": "code",
      "execution_count": 37,
      "id": "70603181",
      "metadata": {
        "id": "70603181"
      },
      "outputs": [],
      "source": [
        "df.education_qual=df.education_qual.replace('unknown','secondary')"
      ]
    },
    {
      "cell_type": "code",
      "execution_count": 38,
      "id": "de67c256",
      "metadata": {
        "colab": {
          "base_uri": "https://localhost:8080/"
        },
        "id": "de67c256",
        "outputId": "c635cd19-2937-4ff8-cad0-fee8b2949b88"
      },
      "outputs": [
        {
          "output_type": "execute_result",
          "data": {
            "text/plain": [
              "secondary    25056\n",
              "tertiary     13299\n",
              "primary       6850\n",
              "Name: education_qual, dtype: int64"
            ]
          },
          "metadata": {},
          "execution_count": 38
        }
      ],
      "source": [
        "df.education_qual.value_counts()"
      ]
    },
    {
      "cell_type": "markdown",
      "id": "ec101731",
      "metadata": {
        "id": "ec101731"
      },
      "source": [
        "Unknown values from ed qualificatins replaced"
      ]
    },
    {
      "cell_type": "code",
      "execution_count": 39,
      "id": "d60527d7",
      "metadata": {
        "colab": {
          "base_uri": "https://localhost:8080/"
        },
        "id": "d60527d7",
        "outputId": "b49871b3-46c1-4b9d-9381-98fd92ea32f1"
      },
      "outputs": [
        {
          "output_type": "execute_result",
          "data": {
            "text/plain": [
              "cellular     29282\n",
              "unknown      13017\n",
              "telephone     2906\n",
              "Name: call_type, dtype: int64"
            ]
          },
          "metadata": {},
          "execution_count": 39
        }
      ],
      "source": [
        "df.call_type.value_counts()"
      ]
    },
    {
      "cell_type": "code",
      "execution_count": 40,
      "id": "c355fac5",
      "metadata": {
        "colab": {
          "base_uri": "https://localhost:8080/"
        },
        "id": "c355fac5",
        "outputId": "a8cb54cf-292d-44d5-ca80-3d7dfc62f8fb"
      },
      "outputs": [
        {
          "output_type": "stream",
          "name": "stdout",
          "text": [
            "unknown percentage:  28.795487224864505\n"
          ]
        }
      ],
      "source": [
        "print('unknown percentage: ',13017*100/(29282+2906+13017))"
      ]
    },
    {
      "cell_type": "markdown",
      "id": "6800861c",
      "metadata": {
        "id": "6800861c"
      },
      "source": [
        "around 29 percent of the values are unknown hence we will keep unknown as it is"
      ]
    },
    {
      "cell_type": "code",
      "execution_count": 41,
      "id": "570481f4",
      "metadata": {
        "colab": {
          "base_uri": "https://localhost:8080/"
        },
        "id": "570481f4",
        "outputId": "a88e231a-3ae0-4c19-d6d8-3d585547421b"
      },
      "outputs": [
        {
          "output_type": "execute_result",
          "data": {
            "text/plain": [
              "no     39916\n",
              "yes     5289\n",
              "Name: y, dtype: int64"
            ]
          },
          "metadata": {},
          "execution_count": 41
        }
      ],
      "source": [
        "df.y.value_counts()"
      ]
    },
    {
      "cell_type": "code",
      "execution_count": 42,
      "id": "e06b3a6d",
      "metadata": {
        "colab": {
          "base_uri": "https://localhost:8080/"
        },
        "id": "e06b3a6d",
        "outputId": "bf29f28f-5520-430b-c45b-91c70adaa41b"
      },
      "outputs": [
        {
          "output_type": "execute_result",
          "data": {
            "text/plain": [
              "unknown    36953\n",
              "failure     4901\n",
              "other       1840\n",
              "success     1511\n",
              "Name: prev_outcome, dtype: int64"
            ]
          },
          "metadata": {},
          "execution_count": 42
        }
      ],
      "source": [
        "df.prev_outcome.value_counts()"
      ]
    },
    {
      "cell_type": "markdown",
      "id": "7cbb3680",
      "metadata": {
        "id": "7cbb3680"
      },
      "source": [
        "since the value of unknowns is high we will leave as it is"
      ]
    },
    {
      "cell_type": "markdown",
      "id": "6b807c27",
      "metadata": {
        "id": "6b807c27"
      },
      "source": [
        "## OUTLIER detection and correction\n"
      ]
    },
    {
      "cell_type": "code",
      "execution_count": 43,
      "id": "8f4309b6",
      "metadata": {
        "colab": {
          "base_uri": "https://localhost:8080/"
        },
        "id": "8f4309b6",
        "outputId": "6a30a8f4-c92e-4969-96ad-13e03304a23e"
      },
      "outputs": [
        {
          "output_type": "execute_result",
          "data": {
            "text/plain": [
              "Index(['age', 'job', 'marital', 'education_qual', 'call_type', 'day', 'mon',\n",
              "       'dur', 'num_calls', 'prev_outcome', 'y'],\n",
              "      dtype='object')"
            ]
          },
          "metadata": {},
          "execution_count": 43
        }
      ],
      "source": [
        "df.columns"
      ]
    },
    {
      "cell_type": "code",
      "execution_count": 44,
      "id": "7d21b228",
      "metadata": {
        "colab": {
          "base_uri": "https://localhost:8080/"
        },
        "id": "7d21b228",
        "outputId": "3a812818-384c-4e41-9124-99b730fcdeae"
      },
      "outputs": [
        {
          "output_type": "execute_result",
          "data": {
            "text/plain": [
              "count    45205.000000\n",
              "mean        40.937087\n",
              "std         10.619130\n",
              "min         18.000000\n",
              "25%         33.000000\n",
              "50%         39.000000\n",
              "75%         48.000000\n",
              "max         95.000000\n",
              "Name: age, dtype: float64"
            ]
          },
          "metadata": {},
          "execution_count": 44
        }
      ],
      "source": [
        "df.age.describe()"
      ]
    },
    {
      "cell_type": "code",
      "execution_count": 45,
      "id": "34ae4399",
      "metadata": {
        "id": "34ae4399"
      },
      "outputs": [],
      "source": [
        "q3=df.age.quantile(0.75)\n",
        "q1=df.age.quantile(0.25)\n",
        "iqr=q3-q1\n",
        "u_tres=q3+(1.5*iqr)\n",
        "l_tres=q1-(1.5*iqr)\n",
        "df.age=df.age.clip(l_tres,u_tres)\n"
      ]
    },
    {
      "cell_type": "code",
      "execution_count": 46,
      "id": "9f123562",
      "metadata": {
        "colab": {
          "base_uri": "https://localhost:8080/"
        },
        "id": "9f123562",
        "outputId": "fda06693-e59f-4e10-fa56-c4b2f3f9731f"
      },
      "outputs": [
        {
          "output_type": "execute_result",
          "data": {
            "text/plain": [
              "count    45205.000000\n",
              "mean        40.869052\n",
              "std         10.395247\n",
              "min         18.000000\n",
              "25%         33.000000\n",
              "50%         39.000000\n",
              "75%         48.000000\n",
              "max         70.500000\n",
              "Name: age, dtype: float64"
            ]
          },
          "metadata": {},
          "execution_count": 46
        }
      ],
      "source": [
        "df.age.describe()"
      ]
    },
    {
      "cell_type": "markdown",
      "id": "276c12c4",
      "metadata": {
        "id": "276c12c4"
      },
      "source": [
        "we can see max has been clipped to 70"
      ]
    },
    {
      "cell_type": "code",
      "execution_count": 47,
      "id": "7378a150",
      "metadata": {
        "colab": {
          "base_uri": "https://localhost:8080/"
        },
        "id": "7378a150",
        "outputId": "bbfafe7b-ae33-4958-f3b1-af6313ca0f1b"
      },
      "outputs": [
        {
          "output_type": "execute_result",
          "data": {
            "text/plain": [
              "count    45205.00000\n",
              "mean        15.80688\n",
              "std          8.32234\n",
              "min          1.00000\n",
              "25%          8.00000\n",
              "50%         16.00000\n",
              "75%         21.00000\n",
              "max         31.00000\n",
              "Name: day, dtype: float64"
            ]
          },
          "metadata": {},
          "execution_count": 47
        }
      ],
      "source": [
        "df.day.describe()"
      ]
    },
    {
      "cell_type": "code",
      "execution_count": 48,
      "id": "c9a38458",
      "metadata": {
        "colab": {
          "base_uri": "https://localhost:8080/"
        },
        "id": "c9a38458",
        "outputId": "958d065a-865d-40be-e252-eb3a117b07b8"
      },
      "outputs": [
        {
          "output_type": "stream",
          "name": "stdout",
          "text": [
            "-11.5 40.5\n"
          ]
        }
      ],
      "source": [
        "q3=df.day.quantile(0.75)\n",
        "q1=df.day.quantile(0.25)\n",
        "iqr=q3-q1\n",
        "u_tres=q3+(1.5*iqr)\n",
        "l_tres=q1-(1.5*iqr)\n",
        "print(l_tres,u_tres)"
      ]
    },
    {
      "cell_type": "markdown",
      "id": "22b00156",
      "metadata": {
        "id": "22b00156"
      },
      "source": [
        "no outliers in day"
      ]
    },
    {
      "cell_type": "code",
      "execution_count": 49,
      "id": "1cc39677",
      "metadata": {
        "colab": {
          "base_uri": "https://localhost:8080/"
        },
        "id": "1cc39677",
        "outputId": "024e779a-82ba-4d4c-f5c5-3408a515dbe2"
      },
      "outputs": [
        {
          "output_type": "execute_result",
          "data": {
            "text/plain": [
              "count    45205.000000\n",
              "mean       258.183055\n",
              "std        257.538504\n",
              "min          0.000000\n",
              "25%        103.000000\n",
              "50%        180.000000\n",
              "75%        319.000000\n",
              "max       4918.000000\n",
              "Name: dur, dtype: float64"
            ]
          },
          "metadata": {},
          "execution_count": 49
        }
      ],
      "source": [
        "df.dur.describe()"
      ]
    },
    {
      "cell_type": "code",
      "execution_count": 50,
      "id": "cc95f2fc",
      "metadata": {
        "id": "cc95f2fc"
      },
      "outputs": [],
      "source": [
        "q3=df.dur.quantile(0.75)\n",
        "q1=df.dur.quantile(0.25)\n",
        "iqr=q3-q1\n",
        "u_tres=q3+(1.5*iqr)\n",
        "l_tres=q1-(1.5*iqr)\n",
        "df.dur=df.dur.clip(l_tres,u_tres)"
      ]
    },
    {
      "cell_type": "code",
      "execution_count": 51,
      "id": "0b1314ba",
      "metadata": {
        "colab": {
          "base_uri": "https://localhost:8080/"
        },
        "id": "0b1314ba",
        "outputId": "001774b3-6868-47ce-82a1-d987be0c89ea"
      },
      "outputs": [
        {
          "output_type": "execute_result",
          "data": {
            "text/plain": [
              "count    45205.00000\n",
              "mean       234.95620\n",
              "std        176.75476\n",
              "min          0.00000\n",
              "25%        103.00000\n",
              "50%        180.00000\n",
              "75%        319.00000\n",
              "max        643.00000\n",
              "Name: dur, dtype: float64"
            ]
          },
          "metadata": {},
          "execution_count": 51
        }
      ],
      "source": [
        "df.dur.describe()"
      ]
    },
    {
      "cell_type": "markdown",
      "id": "e02a2397",
      "metadata": {
        "id": "e02a2397"
      },
      "source": [
        "we see the max value being clipped"
      ]
    },
    {
      "cell_type": "code",
      "execution_count": 52,
      "id": "453ef772",
      "metadata": {
        "colab": {
          "base_uri": "https://localhost:8080/"
        },
        "id": "453ef772",
        "outputId": "3ccc37b4-6c89-42b6-e5a7-66c99ef78f6e"
      },
      "outputs": [
        {
          "output_type": "execute_result",
          "data": {
            "text/plain": [
              "count    45205.000000\n",
              "mean         2.763898\n",
              "std          3.098189\n",
              "min          1.000000\n",
              "25%          1.000000\n",
              "50%          2.000000\n",
              "75%          3.000000\n",
              "max         63.000000\n",
              "Name: num_calls, dtype: float64"
            ]
          },
          "metadata": {},
          "execution_count": 52
        }
      ],
      "source": [
        "df.num_calls.describe()"
      ]
    },
    {
      "cell_type": "code",
      "execution_count": 53,
      "id": "79018cbe",
      "metadata": {
        "id": "79018cbe"
      },
      "outputs": [],
      "source": [
        "q3=df.num_calls.quantile(0.75)\n",
        "q1=df.num_calls.quantile(0.25)\n",
        "iqr=q3-q1\n",
        "u_tres=q3+(1.5*iqr)\n",
        "l_tres=q1-(1.5*iqr)\n",
        "df.num_calls=df.num_calls.clip(l_tres,u_tres)"
      ]
    },
    {
      "cell_type": "code",
      "execution_count": 54,
      "id": "6e69666d",
      "metadata": {
        "colab": {
          "base_uri": "https://localhost:8080/"
        },
        "id": "6e69666d",
        "outputId": "5bf40b36-c64a-4155-8f9f-2f9909044f5d"
      },
      "outputs": [
        {
          "output_type": "execute_result",
          "data": {
            "text/plain": [
              "count    45205.000000\n",
              "mean         2.392235\n",
              "std          1.600152\n",
              "min          1.000000\n",
              "25%          1.000000\n",
              "50%          2.000000\n",
              "75%          3.000000\n",
              "max          6.000000\n",
              "Name: num_calls, dtype: float64"
            ]
          },
          "metadata": {},
          "execution_count": 54
        }
      ],
      "source": [
        "df.num_calls.describe()"
      ]
    },
    {
      "cell_type": "markdown",
      "id": "0944b4ea",
      "metadata": {
        "id": "0944b4ea"
      },
      "source": [
        "## EDA\n",
        "we will now explore the data to see what may be the important features"
      ]
    },
    {
      "cell_type": "code",
      "execution_count": 55,
      "id": "891b5634",
      "metadata": {
        "colab": {
          "base_uri": "https://localhost:8080/"
        },
        "id": "891b5634",
        "outputId": "e5815d64-552a-4b7b-bd22-2d19c69a3877"
      },
      "outputs": [
        {
          "output_type": "execute_result",
          "data": {
            "text/plain": [
              "count     45205\n",
              "unique        2\n",
              "top          no\n",
              "freq      39916\n",
              "Name: target, dtype: object"
            ]
          },
          "metadata": {},
          "execution_count": 55
        }
      ],
      "source": [
        "df['target']=df['y'].copy()\n",
        "df.target.describe()"
      ]
    },
    {
      "cell_type": "code",
      "execution_count": 56,
      "id": "b3b0e402",
      "metadata": {
        "colab": {
          "base_uri": "https://localhost:8080/"
        },
        "id": "b3b0e402",
        "outputId": "2efbe0be-6111-49f5-e5a0-fbbdea5df5d0"
      },
      "outputs": [
        {
          "output_type": "execute_result",
          "data": {
            "text/plain": [
              "no     39916\n",
              "yes     5289\n",
              "Name: target, dtype: int64"
            ]
          },
          "metadata": {},
          "execution_count": 56
        }
      ],
      "source": [
        "df.target.value_counts()"
      ]
    },
    {
      "cell_type": "code",
      "execution_count": 57,
      "id": "fdf31471",
      "metadata": {
        "id": "fdf31471"
      },
      "outputs": [],
      "source": [
        "df.target=df.target.map({'yes':1,'no':0})"
      ]
    },
    {
      "cell_type": "code",
      "execution_count": 58,
      "id": "a24a2608",
      "metadata": {
        "colab": {
          "base_uri": "https://localhost:8080/"
        },
        "id": "a24a2608",
        "outputId": "9e5b7e25-e4f9-47ed-f10f-e2499ac8868e"
      },
      "outputs": [
        {
          "output_type": "execute_result",
          "data": {
            "text/plain": [
              "0    39916\n",
              "1     5289\n",
              "Name: target, dtype: int64"
            ]
          },
          "metadata": {},
          "execution_count": 58
        }
      ],
      "source": [
        "df.target.value_counts()"
      ]
    },
    {
      "cell_type": "code",
      "execution_count": 59,
      "id": "e496dab1",
      "metadata": {
        "id": "e496dab1"
      },
      "outputs": [],
      "source": [
        "cat=df.select_dtypes(include=['object']).columns"
      ]
    },
    {
      "cell_type": "code",
      "execution_count": 60,
      "id": "4da1a63c",
      "metadata": {
        "colab": {
          "base_uri": "https://localhost:8080/"
        },
        "id": "4da1a63c",
        "outputId": "f77d4048-e60f-46d8-d7d5-2e87894aae83"
      },
      "outputs": [
        {
          "output_type": "execute_result",
          "data": {
            "text/plain": [
              "Index(['job', 'marital', 'education_qual', 'call_type', 'mon', 'prev_outcome',\n",
              "       'y'],\n",
              "      dtype='object')"
            ]
          },
          "metadata": {},
          "execution_count": 60
        }
      ],
      "source": [
        "cat"
      ]
    },
    {
      "cell_type": "code",
      "execution_count": 61,
      "id": "d8c240f7",
      "metadata": {
        "colab": {
          "base_uri": "https://localhost:8080/",
          "height": 820
        },
        "id": "d8c240f7",
        "outputId": "d998a6db-8881-4abe-d836-15df3b4c1cb1"
      },
      "outputs": [
        {
          "output_type": "display_data",
          "data": {
            "text/plain": [
              "<Figure size 1500x1200 with 6 Axes>"
            ],
            "image/png": "[encoded data removed]"
          },
          "metadata": {}
        }
      ],
      "source": [
        "plt.figure(figsize=(15,12))\n",
        "plt.subplots_adjust(hspace=1)\n",
        "for n,col in enumerate(cat):\n",
        "    if n<6:\n",
        "        ax=plt.subplot(3,2,n+1)\n",
        "        df.groupby(col)['target'].mean().plot(kind='bar',ax=ax)\n",
        "        ax.set_xlabel(col)\n",
        "    else:\n",
        "        pass\n"
      ]
    },
    {
      "cell_type": "markdown",
      "id": "0d7d37e3",
      "metadata": {
        "id": "0d7d37e3"
      },
      "source": [
        "##### Obesrvations\n",
        "in job feature:\n",
        "student and retired are the highest and blue collar is the lowest\n",
        "\n",
        "feature- marital status\n",
        "single highest and married lowest\n",
        "marital doesnt seem to influence the coversion by a huge margin hence can be dropped as a feature\n",
        "\n",
        "feature- education\n",
        "highest-tertiary\n",
        "lowest-primary\n",
        "\n",
        "feature- call type\n",
        "highest-unknown\n",
        "lowest-cellular\n",
        "\n",
        "feature- mon\n",
        "highest-march\n",
        "lowest-may\n",
        "feature- prev_outcome\n",
        "high-success\n",
        "low-unknown\n"
      ]
    },
    {
      "cell_type": "code",
      "execution_count": 62,
      "id": "b0c2714e",
      "metadata": {
        "colab": {
          "base_uri": "https://localhost:8080/",
          "height": 466
        },
        "id": "b0c2714e",
        "outputId": "5f97877c-6512-4893-d914-70cf2a83225f"
      },
      "outputs": [
        {
          "output_type": "execute_result",
          "data": {
            "text/plain": [
              "<Axes: xlabel='target', ylabel='age'>"
            ]
          },
          "metadata": {},
          "execution_count": 62
        },
        {
          "output_type": "display_data",
          "data": {
            "text/plain": [
              "<Figure size 640x480 with 1 Axes>"
            ],
            "image/png": "[encoded data removed]"
          },
          "metadata": {}
        }
      ],
      "source": [
        "#for continuous features\n",
        "sns.boxplot(x='target',y='age',data=df)"
      ]
    },
    {
      "cell_type": "markdown",
      "id": "663cce10",
      "metadata": {
        "id": "663cce10"
      },
      "source": [
        "we observe a difference in the feature hence we will be considering age\n"
      ]
    },
    {
      "cell_type": "code",
      "execution_count": 63,
      "id": "04c6f94e",
      "metadata": {
        "colab": {
          "base_uri": "https://localhost:8080/",
          "height": 466
        },
        "id": "04c6f94e",
        "outputId": "179a43f5-cee4-45ec-a412-a62708e53992"
      },
      "outputs": [
        {
          "output_type": "execute_result",
          "data": {
            "text/plain": [
              "<Axes: xlabel='target', ylabel='day'>"
            ]
          },
          "metadata": {},
          "execution_count": 63
        },
        {
          "output_type": "display_data",
          "data": {
            "text/plain": [
              "<Figure size 640x480 with 1 Axes>"
            ],
            "image/png": "[encoded data removed]"
          },
          "metadata": {}
        }
      ],
      "source": [
        "#day\n",
        "sns.boxplot(x='target',y='day',data=df)"
      ]
    },
    {
      "cell_type": "code",
      "execution_count": 64,
      "id": "60d83a3b",
      "metadata": {
        "colab": {
          "base_uri": "https://localhost:8080/",
          "height": 466
        },
        "id": "60d83a3b",
        "outputId": "38335840-9ce4-4837-ea71-2f3e9bbf24ed"
      },
      "outputs": [
        {
          "output_type": "execute_result",
          "data": {
            "text/plain": [
              "<Axes: xlabel='target', ylabel='dur'>"
            ]
          },
          "metadata": {},
          "execution_count": 64
        },
        {
          "output_type": "display_data",
          "data": {
            "text/plain": [
              "<Figure size 640x480 with 1 Axes>"
            ],
            "image/png": "[encoded data removed]"
          },
          "metadata": {}
        }
      ],
      "source": [
        "sns.boxplot(x='target',y='dur',data=df)"
      ]
    },
    {
      "cell_type": "markdown",
      "id": "f10dd283",
      "metadata": {
        "id": "f10dd283"
      },
      "source": [
        "very evident difference hance this feature will also be considered."
      ]
    },
    {
      "cell_type": "code",
      "execution_count": 65,
      "id": "98d75b73",
      "metadata": {
        "colab": {
          "base_uri": "https://localhost:8080/",
          "height": 466
        },
        "id": "98d75b73",
        "outputId": "ad0a1143-de59-4b45-e611-25bbb672f053"
      },
      "outputs": [
        {
          "output_type": "execute_result",
          "data": {
            "text/plain": [
              "<Axes: xlabel='target', ylabel='num_calls'>"
            ]
          },
          "metadata": {},
          "execution_count": 65
        },
        {
          "output_type": "display_data",
          "data": {
            "text/plain": [
              "<Figure size 640x480 with 1 Axes>"
            ],
            "image/png": "[encoded data removed]"
          },
          "metadata": {}
        }
      ],
      "source": [
        "#num_calls\n",
        "sns.boxplot(x='target',y='num_calls',data=df)"
      ]
    },
    {
      "cell_type": "markdown",
      "id": "715cd08e",
      "metadata": {
        "id": "715cd08e"
      },
      "source": [
        "number of calls may not be considered as they are similar"
      ]
    },
    {
      "cell_type": "markdown",
      "id": "fd07a988",
      "metadata": {
        "id": "fd07a988"
      },
      "source": [
        "# Encoding"
      ]
    },
    {
      "cell_type": "code",
      "execution_count": 66,
      "id": "5c7aaf7c",
      "metadata": {
        "id": "5c7aaf7c"
      },
      "outputs": [],
      "source": [
        "df['job']=df['job'].map({'blue-collar':1,'entrepreneur':2,'services':3,'housemaid':4,'technician':5,'self-employed':6,'admin.':7,'management':8, 'unemployed':9, 'retired': 10, 'student' : 11})\n",
        "\n"
      ]
    },
    {
      "cell_type": "code",
      "execution_count": 67,
      "id": "dcb2a2e6",
      "metadata": {
        "colab": {
          "base_uri": "https://localhost:8080/",
          "height": 206
        },
        "id": "dcb2a2e6",
        "outputId": "e0e2bd06-21d8-4810-b4cc-70049b86f351"
      },
      "outputs": [
        {
          "output_type": "execute_result",
          "data": {
            "text/plain": [
              "    age  job  marital education_qual call_type  day  mon  dur  num_calls  \\\n",
              "0  58.0    8  married       tertiary   unknown    5  may  261          1   \n",
              "1  44.0    5   single      secondary   unknown    5  may  151          1   \n",
              "2  33.0    2  married      secondary   unknown    5  may   76          1   \n",
              "3  47.0    1  married      secondary   unknown    5  may   92          1   \n",
              "4  33.0    1   single      secondary   unknown    5  may  198          1   \n",
              "\n",
              "  prev_outcome   y  target  \n",
              "0      unknown  no       0  \n",
              "1      unknown  no       0  \n",
              "2      unknown  no       0  \n",
              "3      unknown  no       0  \n",
              "4      unknown  no       0  "
            ],
            "text/html": [
              "\n",
              "  <div id=\"df-a145386b-636a-4f7d-bd25-e7546129b170\" class=\"colab-df-container\">\n",
              "    <div>\n",
              "<style scoped>\n",
              "    .dataframe tbody tr th:only-of-type {\n",
              "        vertical-align: middle;\n",
              "    }\n",
              "\n",
              "    .dataframe tbody tr th {\n",
              "        vertical-align: top;\n",
              "    }\n",
              "\n",
              "    .dataframe thead th {\n",
              "        text-align: right;\n",
              "    }\n",
              "</style>\n",
              "<table border=\"1\" class=\"dataframe\">\n",
              "  <thead>\n",
              "    <tr style=\"text-align: right;\">\n",
              "      <th></th>\n",
              "      <th>age</th>\n",
              "      <th>job</th>\n",
              "      <th>marital</th>\n",
              "      <th>education_qual</th>\n",
              "      <th>call_type</th>\n",
              "      <th>day</th>\n",
              "      <th>mon</th>\n",
              "      <th>dur</th>\n",
              "      <th>num_calls</th>\n",
              "      <th>prev_outcome</th>\n",
              "      <th>y</th>\n",
              "      <th>target</th>\n",
              "    </tr>\n",
              "  </thead>\n",
              "  <tbody>\n",
              "    <tr>\n",
              "      <th>0</th>\n",
              "      <td>58.0</td>\n",
              "      <td>8</td>\n",
              "      <td>married</td>\n",
              "      <td>tertiary</td>\n",
              "      <td>unknown</td>\n",
              "      <td>5</td>\n",
              "      <td>may</td>\n",
              "      <td>261</td>\n",
              "      <td>1</td>\n",
              "      <td>unknown</td>\n",
              "      <td>no</td>\n",
              "      <td>0</td>\n",
              "    </tr>\n",
              "    <tr>\n",
              "      <th>1</th>\n",
              "      <td>44.0</td>\n",
              "      <td>5</td>\n",
              "      <td>single</td>\n",
              "      <td>secondary</td>\n",
              "      <td>unknown</td>\n",
              "      <td>5</td>\n",
              "      <td>may</td>\n",
              "      <td>151</td>\n",
              "      <td>1</td>\n",
              "      <td>unknown</td>\n",
              "      <td>no</td>\n",
              "      <td>0</td>\n",
              "    </tr>\n",
              "    <tr>\n",
              "      <th>2</th>\n",
              "      <td>33.0</td>\n",
              "      <td>2</td>\n",
              "      <td>married</td>\n",
              "      <td>secondary</td>\n",
              "      <td>unknown</td>\n",
              "      <td>5</td>\n",
              "      <td>may</td>\n",
              "      <td>76</td>\n",
              "      <td>1</td>\n",
              "      <td>unknown</td>\n",
              "      <td>no</td>\n",
              "      <td>0</td>\n",
              "    </tr>\n",
              "    <tr>\n",
              "      <th>3</th>\n",
              "      <td>47.0</td>\n",
              "      <td>1</td>\n",
              "      <td>married</td>\n",
              "      <td>secondary</td>\n",
              "      <td>unknown</td>\n",
              "      <td>5</td>\n",
              "      <td>may</td>\n",
              "      <td>92</td>\n",
              "      <td>1</td>\n",
              "      <td>unknown</td>\n",
              "      <td>no</td>\n",
              "      <td>0</td>\n",
              "    </tr>\n",
              "    <tr>\n",
              "      <th>4</th>\n",
              "      <td>33.0</td>\n",
              "      <td>1</td>\n",
              "      <td>single</td>\n",
              "      <td>secondary</td>\n",
              "      <td>unknown</td>\n",
              "      <td>5</td>\n",
              "      <td>may</td>\n",
              "      <td>198</td>\n",
              "      <td>1</td>\n",
              "      <td>unknown</td>\n",
              "      <td>no</td>\n",
              "      <td>0</td>\n",
              "    </tr>\n",
              "  </tbody>\n",
              "</table>\n",
              "</div>\n",
              "    <div class=\"colab-df-buttons\">\n",
              "\n",
              "  <div class=\"colab-df-container\">\n",
              "    <button class=\"colab-df-convert\" onclick=\"convertToInteractive('df-a145386b-636a-4f7d-bd25-e7546129b170')\"\n",
              "            title=\"Convert this dataframe to an interactive table.\"\n",
              "            style=\"display:none;\">\n",
              "\n",
              "  <svg xmlns=\"http://www.w3.org/2000/svg\" height=\"24px\" viewBox=\"0 -960 960 960\">\n",
              "    <path d=\"M120-120v-720h720v720H120Zm60-500h600v-160H180v160Zm220 220h160v-160H400v160Zm0 220h160v-160H400v160ZM180-400h160v-160H180v160Zm440 0h160v-160H620v160ZM180-180h160v-160H180v160Zm440 0h160v-160H620v160Z\"/>\n",
              "  </svg>\n",
              "    </button>\n",
              "\n",
              "  <style>\n",
              "    .colab-df-container {\n",
              "      display:flex;\n",
              "      gap: 12px;\n",
              "    }\n",
              "\n",
              "    .colab-df-convert {\n",
              "      background-color: #E8F0FE;\n",
              "      border: none;\n",
              "      border-radius: 50%;\n",
              "      cursor: pointer;\n",
              "      display: none;\n",
              "      fill: #1967D2;\n",
              "      height: 32px;\n",
              "      padding: 0 0 0 0;\n",
              "      width: 32px;\n",
              "    }\n",
              "\n",
              "    .colab-df-convert:hover {\n",
              "      background-color: #E2EBFA;\n",
              "      box-shadow: 0px 1px 2px rgba(60, 64, 67, 0.3), 0px 1px 3px 1px rgba(60, 64, 67, 0.15);\n",
              "      fill: #174EA6;\n",
              "    }\n",
              "\n",
              "    .colab-df-buttons div {\n",
              "      margin-bottom: 4px;\n",
              "    }\n",
              "\n",
              "    [theme=dark] .colab-df-convert {\n",
              "      background-color: #3B4455;\n",
              "      fill: #D2E3FC;\n",
              "    }\n",
              "\n",
              "    [theme=dark] .colab-df-convert:hover {\n",
              "      background-color: #434B5C;\n",
              "      box-shadow: 0px 1px 3px 1px rgba(0, 0, 0, 0.15);\n",
              "      filter: drop-shadow(0px 1px 2px rgba(0, 0, 0, 0.3));\n",
              "      fill: #FFFFFF;\n",
              "    }\n",
              "  </style>\n",
              "\n",
              "    <script>\n",
              "      const buttonEl =\n",
              "        document.querySelector('#df-a145386b-636a-4f7d-bd25-e7546129b170 button.colab-df-convert');\n",
              "      buttonEl.style.display =\n",
              "        google.colab.kernel.accessAllowed ? 'block' : 'none';\n",
              "\n",
              "      async function convertToInteractive(key) {\n",
              "        const element = document.querySelector('#df-a145386b-636a-4f7d-bd25-e7546129b170');\n",
              "        const dataTable =\n",
              "          await google.colab.kernel.invokeFunction('convertToInteractive',\n",
              "                                                    [key], {});\n",
              "        if (!dataTable) return;\n",
              "\n",
              "        const docLinkHtml = 'Like what you see? Visit the ' +\n",
              "          '<a target=\"_blank\" href=https://colab.research.google.com/notebooks/data_table.ipynb>data table notebook</a>'\n",
              "          + ' to learn more about interactive tables.';\n",
              "        element.innerHTML = '';\n",
              "        dataTable['output_type'] = 'display_data';\n",
              "        await google.colab.output.renderOutput(dataTable, element);\n",
              "        const docLink = document.createElement('div');\n",
              "        docLink.innerHTML = docLinkHtml;\n",
              "        element.appendChild(docLink);\n",
              "      }\n",
              "    </script>\n",
              "  </div>\n",
              "\n",
              "\n",
              "<div id=\"df-a204ba8d-1b15-4d92-a602-a68e0b2b7196\">\n",
              "  <button class=\"colab-df-quickchart\" onclick=\"quickchart('df-a204ba8d-1b15-4d92-a602-a68e0b2b7196')\"\n",
              "            title=\"Suggest charts\"\n",
              "            style=\"display:none;\">\n",
              "\n",
              "<svg xmlns=\"http://www.w3.org/2000/svg\" height=\"24px\"viewBox=\"0 0 24 24\"\n",
              "     width=\"24px\">\n",
              "    <g>\n",
              "        <path d=\"M19 3H5c-1.1 0-2 .9-2 2v14c0 1.1.9 2 2 2h14c1.1 0 2-.9 2-2V5c0-1.1-.9-2-2-2zM9 17H7v-7h2v7zm4 0h-2V7h2v10zm4 0h-2v-4h2v4z\"/>\n",
              "    </g>\n",
              "</svg>\n",
              "  </button>\n",
              "\n",
              "<style>\n",
              "  .colab-df-quickchart {\n",
              "      --bg-color: #E8F0FE;\n",
              "      --fill-color: #1967D2;\n",
              "      --hover-bg-color: #E2EBFA;\n",
              "      --hover-fill-color: #174EA6;\n",
              "      --disabled-fill-color: #AAA;\n",
              "      --disabled-bg-color: #DDD;\n",
              "  }\n",
              "\n",
              "  [theme=dark] .colab-df-quickchart {\n",
              "      --bg-color: #3B4455;\n",
              "      --fill-color: #D2E3FC;\n",
              "      --hover-bg-color: #434B5C;\n",
              "      --hover-fill-color: #FFFFFF;\n",
              "      --disabled-bg-color: #3B4455;\n",
              "      --disabled-fill-color: #666;\n",
              "  }\n",
              "\n",
              "  .colab-df-quickchart {\n",
              "    background-color: var(--bg-color);\n",
              "    border: none;\n",
              "    border-radius: 50%;\n",
              "    cursor: pointer;\n",
              "    display: none;\n",
              "    fill: var(--fill-color);\n",
              "    height: 32px;\n",
              "    padding: 0;\n",
              "    width: 32px;\n",
              "  }\n",
              "\n",
              "  .colab-df-quickchart:hover {\n",
              "    background-color: var(--hover-bg-color);\n",
              "    box-shadow: 0 1px 2px rgba(60, 64, 67, 0.3), 0 1px 3px 1px rgba(60, 64, 67, 0.15);\n",
              "    fill: var(--button-hover-fill-color);\n",
              "  }\n",
              "\n",
              "  .colab-df-quickchart-complete:disabled,\n",
              "  .colab-df-quickchart-complete:disabled:hover {\n",
              "    background-color: var(--disabled-bg-color);\n",
              "    fill: var(--disabled-fill-color);\n",
              "    box-shadow: none;\n",
              "  }\n",
              "\n",
              "  .colab-df-spinner {\n",
              "    border: 2px solid var(--fill-color);\n",
              "    border-color: transparent;\n",
              "    border-bottom-color: var(--fill-color);\n",
              "    animation:\n",
              "      spin 1s steps(1) infinite;\n",
              "  }\n",
              "\n",
              "  @keyframes spin {\n",
              "    0% {\n",
              "      border-color: transparent;\n",
              "      border-bottom-color: var(--fill-color);\n",
              "      border-left-color: var(--fill-color);\n",
              "    }\n",
              "    20% {\n",
              "      border-color: transparent;\n",
              "      border-left-color: var(--fill-color);\n",
              "      border-top-color: var(--fill-color);\n",
              "    }\n",
              "    30% {\n",
              "      border-color: transparent;\n",
              "      border-left-color: var(--fill-color);\n",
              "      border-top-color: var(--fill-color);\n",
              "      border-right-color: var(--fill-color);\n",
              "    }\n",
              "    40% {\n",
              "      border-color: transparent;\n",
              "      border-right-color: var(--fill-color);\n",
              "      border-top-color: var(--fill-color);\n",
              "    }\n",
              "    60% {\n",
              "      border-color: transparent;\n",
              "      border-right-color: var(--fill-color);\n",
              "    }\n",
              "    80% {\n",
              "      border-color: transparent;\n",
              "      border-right-color: var(--fill-color);\n",
              "      border-bottom-color: var(--fill-color);\n",
              "    }\n",
              "    90% {\n",
              "      border-color: transparent;\n",
              "      border-bottom-color: var(--fill-color);\n",
              "    }\n",
              "  }\n",
              "</style>\n",
              "\n",
              "  <script>\n",
              "    async function quickchart(key) {\n",
              "      const quickchartButtonEl =\n",
              "        document.querySelector('#' + key + ' button');\n",
              "      quickchartButtonEl.disabled = true;  // To prevent multiple clicks.\n",
              "      quickchartButtonEl.classList.add('colab-df-spinner');\n",
              "      try {\n",
              "        const charts = await google.colab.kernel.invokeFunction(\n",
              "            'suggestCharts', [key], {});\n",
              "      } catch (error) {\n",
              "        console.error('Error during call to suggestCharts:', error);\n",
              "      }\n",
              "      quickchartButtonEl.classList.remove('colab-df-spinner');\n",
              "      quickchartButtonEl.classList.add('colab-df-quickchart-complete');\n",
              "    }\n",
              "    (() => {\n",
              "      let quickchartButtonEl =\n",
              "        document.querySelector('#df-a204ba8d-1b15-4d92-a602-a68e0b2b7196 button');\n",
              "      quickchartButtonEl.style.display =\n",
              "        google.colab.kernel.accessAllowed ? 'block' : 'none';\n",
              "    })();\n",
              "  </script>\n",
              "</div>\n",
              "    </div>\n",
              "  </div>\n"
            ]
          },
          "metadata": {},
          "execution_count": 67
        }
      ],
      "source": [
        "df.head()"
      ]
    },
    {
      "cell_type": "code",
      "execution_count": 68,
      "id": "4b085224",
      "metadata": {
        "id": "4b085224"
      },
      "outputs": [],
      "source": [
        "#marital\n",
        "df['marital'] =df['marital'].map({'married': 1, 'divorced': 2, 'single' : 3})\n",
        "#education\n",
        "df['education_qual'] = df['education_qual'].map({'primary': 1, 'secondary': 2, 'tertiary' :3})\n",
        "# month\n",
        "df['mon']=df['mon'].map({'may': 1, 'jul' : 2, 'jan': 3, 'nov': 4, 'jun' : 5, 'aug' : 6, 'feb' : 7, 'apr' : 8, 'oct' : 9, 'dec' : 10 , 'sep': 11, 'mar': 12})\n",
        "#call type\n",
        "df['call_type'] = df['call_type'].map({'unknown': 1, 'telephone' : 2, 'cellular' : 3})\n",
        "#previous outcome\n",
        "df['prev_outcome']=df['prev_outcome'].map({'unknown' : 1, 'failure' : 2, 'other' : 3, 'success': 4})\n"
      ]
    },
    {
      "cell_type": "code",
      "execution_count": 69,
      "id": "db8422f4",
      "metadata": {
        "colab": {
          "base_uri": "https://localhost:8080/",
          "height": 206
        },
        "id": "db8422f4",
        "outputId": "8308e0e3-2efd-4ea7-9cdb-139d85d9c9fa"
      },
      "outputs": [
        {
          "output_type": "execute_result",
          "data": {
            "text/plain": [
              "    age  job  marital  education_qual  call_type  day  mon  dur  num_calls  \\\n",
              "0  58.0    8        1               3          1    5    1  261          1   \n",
              "1  44.0    5        3               2          1    5    1  151          1   \n",
              "2  33.0    2        1               2          1    5    1   76          1   \n",
              "3  47.0    1        1               2          1    5    1   92          1   \n",
              "4  33.0    1        3               2          1    5    1  198          1   \n",
              "\n",
              "   prev_outcome   y  target  \n",
              "0             1  no       0  \n",
              "1             1  no       0  \n",
              "2             1  no       0  \n",
              "3             1  no       0  \n",
              "4             1  no       0  "
            ],
            "text/html": [
              "\n",
              "  <div id=\"df-89cf3211-f8c3-4018-a8e8-9b76cc3c3173\" class=\"colab-df-container\">\n",
              "    <div>\n",
              "<style scoped>\n",
              "    .dataframe tbody tr th:only-of-type {\n",
              "        vertical-align: middle;\n",
              "    }\n",
              "\n",
              "    .dataframe tbody tr th {\n",
              "        vertical-align: top;\n",
              "    }\n",
              "\n",
              "    .dataframe thead th {\n",
              "        text-align: right;\n",
              "    }\n",
              "</style>\n",
              "<table border=\"1\" class=\"dataframe\">\n",
              "  <thead>\n",
              "    <tr style=\"text-align: right;\">\n",
              "      <th></th>\n",
              "      <th>age</th>\n",
              "      <th>job</th>\n",
              "      <th>marital</th>\n",
              "      <th>education_qual</th>\n",
              "      <th>call_type</th>\n",
              "      <th>day</th>\n",
              "      <th>mon</th>\n",
              "      <th>dur</th>\n",
              "      <th>num_calls</th>\n",
              "      <th>prev_outcome</th>\n",
              "      <th>y</th>\n",
              "      <th>target</th>\n",
              "    </tr>\n",
              "  </thead>\n",
              "  <tbody>\n",
              "    <tr>\n",
              "      <th>0</th>\n",
              "      <td>58.0</td>\n",
              "      <td>8</td>\n",
              "      <td>1</td>\n",
              "      <td>3</td>\n",
              "      <td>1</td>\n",
              "      <td>5</td>\n",
              "      <td>1</td>\n",
              "      <td>261</td>\n",
              "      <td>1</td>\n",
              "      <td>1</td>\n",
              "      <td>no</td>\n",
              "      <td>0</td>\n",
              "    </tr>\n",
              "    <tr>\n",
              "      <th>1</th>\n",
              "      <td>44.0</td>\n",
              "      <td>5</td>\n",
              "      <td>3</td>\n",
              "      <td>2</td>\n",
              "      <td>1</td>\n",
              "      <td>5</td>\n",
              "      <td>1</td>\n",
              "      <td>151</td>\n",
              "      <td>1</td>\n",
              "      <td>1</td>\n",
              "      <td>no</td>\n",
              "      <td>0</td>\n",
              "    </tr>\n",
              "    <tr>\n",
              "      <th>2</th>\n",
              "      <td>33.0</td>\n",
              "      <td>2</td>\n",
              "      <td>1</td>\n",
              "      <td>2</td>\n",
              "      <td>1</td>\n",
              "      <td>5</td>\n",
              "      <td>1</td>\n",
              "      <td>76</td>\n",
              "      <td>1</td>\n",
              "      <td>1</td>\n",
              "      <td>no</td>\n",
              "      <td>0</td>\n",
              "    </tr>\n",
              "    <tr>\n",
              "      <th>3</th>\n",
              "      <td>47.0</td>\n",
              "      <td>1</td>\n",
              "      <td>1</td>\n",
              "      <td>2</td>\n",
              "      <td>1</td>\n",
              "      <td>5</td>\n",
              "      <td>1</td>\n",
              "      <td>92</td>\n",
              "      <td>1</td>\n",
              "      <td>1</td>\n",
              "      <td>no</td>\n",
              "      <td>0</td>\n",
              "    </tr>\n",
              "    <tr>\n",
              "      <th>4</th>\n",
              "      <td>33.0</td>\n",
              "      <td>1</td>\n",
              "      <td>3</td>\n",
              "      <td>2</td>\n",
              "      <td>1</td>\n",
              "      <td>5</td>\n",
              "      <td>1</td>\n",
              "      <td>198</td>\n",
              "      <td>1</td>\n",
              "      <td>1</td>\n",
              "      <td>no</td>\n",
              "      <td>0</td>\n",
              "    </tr>\n",
              "  </tbody>\n",
              "</table>\n",
              "</div>\n",
              "    <div class=\"colab-df-buttons\">\n",
              "\n",
              "  <div class=\"colab-df-container\">\n",
              "    <button class=\"colab-df-convert\" onclick=\"convertToInteractive('df-89cf3211-f8c3-4018-a8e8-9b76cc3c3173')\"\n",
              "            title=\"Convert this dataframe to an interactive table.\"\n",
              "            style=\"display:none;\">\n",
              "\n",
              "  <svg xmlns=\"http://www.w3.org/2000/svg\" height=\"24px\" viewBox=\"0 -960 960 960\">\n",
              "    <path d=\"M120-120v-720h720v720H120Zm60-500h600v-160H180v160Zm220 220h160v-160H400v160Zm0 220h160v-160H400v160ZM180-400h160v-160H180v160Zm440 0h160v-160H620v160ZM180-180h160v-160H180v160Zm440 0h160v-160H620v160Z\"/>\n",
              "  </svg>\n",
              "    </button>\n",
              "\n",
              "  <style>\n",
              "    .colab-df-container {\n",
              "      display:flex;\n",
              "      gap: 12px;\n",
              "    }\n",
              "\n",
              "    .colab-df-convert {\n",
              "      background-color: #E8F0FE;\n",
              "      border: none;\n",
              "      border-radius: 50%;\n",
              "      cursor: pointer;\n",
              "      display: none;\n",
              "      fill: #1967D2;\n",
              "      height: 32px;\n",
              "      padding: 0 0 0 0;\n",
              "      width: 32px;\n",
              "    }\n",
              "\n",
              "    .colab-df-convert:hover {\n",
              "      background-color: #E2EBFA;\n",
              "      box-shadow: 0px 1px 2px rgba(60, 64, 67, 0.3), 0px 1px 3px 1px rgba(60, 64, 67, 0.15);\n",
              "      fill: #174EA6;\n",
              "    }\n",
              "\n",
              "    .colab-df-buttons div {\n",
              "      margin-bottom: 4px;\n",
              "    }\n",
              "\n",
              "    [theme=dark] .colab-df-convert {\n",
              "      background-color: #3B4455;\n",
              "      fill: #D2E3FC;\n",
              "    }\n",
              "\n",
              "    [theme=dark] .colab-df-convert:hover {\n",
              "      background-color: #434B5C;\n",
              "      box-shadow: 0px 1px 3px 1px rgba(0, 0, 0, 0.15);\n",
              "      filter: drop-shadow(0px 1px 2px rgba(0, 0, 0, 0.3));\n",
              "      fill: #FFFFFF;\n",
              "    }\n",
              "  </style>\n",
              "\n",
              "    <script>\n",
              "      const buttonEl =\n",
              "        document.querySelector('#df-89cf3211-f8c3-4018-a8e8-9b76cc3c3173 button.colab-df-convert');\n",
              "      buttonEl.style.display =\n",
              "        google.colab.kernel.accessAllowed ? 'block' : 'none';\n",
              "\n",
              "      async function convertToInteractive(key) {\n",
              "        const element = document.querySelector('#df-89cf3211-f8c3-4018-a8e8-9b76cc3c3173');\n",
              "        const dataTable =\n",
              "          await google.colab.kernel.invokeFunction('convertToInteractive',\n",
              "                                                    [key], {});\n",
              "        if (!dataTable) return;\n",
              "\n",
              "        const docLinkHtml = 'Like what you see? Visit the ' +\n",
              "          '<a target=\"_blank\" href=https://colab.research.google.com/notebooks/data_table.ipynb>data table notebook</a>'\n",
              "          + ' to learn more about interactive tables.';\n",
              "        element.innerHTML = '';\n",
              "        dataTable['output_type'] = 'display_data';\n",
              "        await google.colab.output.renderOutput(dataTable, element);\n",
              "        const docLink = document.createElement('div');\n",
              "        docLink.innerHTML = docLinkHtml;\n",
              "        element.appendChild(docLink);\n",
              "      }\n",
              "    </script>\n",
              "  </div>\n",
              "\n",
              "\n",
              "<div id=\"df-c04cfcec-a69a-4ddf-bd59-086d2c4527fb\">\n",
              "  <button class=\"colab-df-quickchart\" onclick=\"quickchart('df-c04cfcec-a69a-4ddf-bd59-086d2c4527fb')\"\n",
              "            title=\"Suggest charts\"\n",
              "            style=\"display:none;\">\n",
              "\n",
              "<svg xmlns=\"http://www.w3.org/2000/svg\" height=\"24px\"viewBox=\"0 0 24 24\"\n",
              "     width=\"24px\">\n",
              "    <g>\n",
              "        <path d=\"M19 3H5c-1.1 0-2 .9-2 2v14c0 1.1.9 2 2 2h14c1.1 0 2-.9 2-2V5c0-1.1-.9-2-2-2zM9 17H7v-7h2v7zm4 0h-2V7h2v10zm4 0h-2v-4h2v4z\"/>\n",
              "    </g>\n",
              "</svg>\n",
              "  </button>\n",
              "\n",
              "<style>\n",
              "  .colab-df-quickchart {\n",
              "      --bg-color: #E8F0FE;\n",
              "      --fill-color: #1967D2;\n",
              "      --hover-bg-color: #E2EBFA;\n",
              "      --hover-fill-color: #174EA6;\n",
              "      --disabled-fill-color: #AAA;\n",
              "      --disabled-bg-color: #DDD;\n",
              "  }\n",
              "\n",
              "  [theme=dark] .colab-df-quickchart {\n",
              "      --bg-color: #3B4455;\n",
              "      --fill-color: #D2E3FC;\n",
              "      --hover-bg-color: #434B5C;\n",
              "      --hover-fill-color: #FFFFFF;\n",
              "      --disabled-bg-color: #3B4455;\n",
              "      --disabled-fill-color: #666;\n",
              "  }\n",
              "\n",
              "  .colab-df-quickchart {\n",
              "    background-color: var(--bg-color);\n",
              "    border: none;\n",
              "    border-radius: 50%;\n",
              "    cursor: pointer;\n",
              "    display: none;\n",
              "    fill: var(--fill-color);\n",
              "    height: 32px;\n",
              "    padding: 0;\n",
              "    width: 32px;\n",
              "  }\n",
              "\n",
              "  .colab-df-quickchart:hover {\n",
              "    background-color: var(--hover-bg-color);\n",
              "    box-shadow: 0 1px 2px rgba(60, 64, 67, 0.3), 0 1px 3px 1px rgba(60, 64, 67, 0.15);\n",
              "    fill: var(--button-hover-fill-color);\n",
              "  }\n",
              "\n",
              "  .colab-df-quickchart-complete:disabled,\n",
              "  .colab-df-quickchart-complete:disabled:hover {\n",
              "    background-color: var(--disabled-bg-color);\n",
              "    fill: var(--disabled-fill-color);\n",
              "    box-shadow: none;\n",
              "  }\n",
              "\n",
              "  .colab-df-spinner {\n",
              "    border: 2px solid var(--fill-color);\n",
              "    border-color: transparent;\n",
              "    border-bottom-color: var(--fill-color);\n",
              "    animation:\n",
              "      spin 1s steps(1) infinite;\n",
              "  }\n",
              "\n",
              "  @keyframes spin {\n",
              "    0% {\n",
              "      border-color: transparent;\n",
              "      border-bottom-color: var(--fill-color);\n",
              "      border-left-color: var(--fill-color);\n",
              "    }\n",
              "    20% {\n",
              "      border-color: transparent;\n",
              "      border-left-color: var(--fill-color);\n",
              "      border-top-color: var(--fill-color);\n",
              "    }\n",
              "    30% {\n",
              "      border-color: transparent;\n",
              "      border-left-color: var(--fill-color);\n",
              "      border-top-color: var(--fill-color);\n",
              "      border-right-color: var(--fill-color);\n",
              "    }\n",
              "    40% {\n",
              "      border-color: transparent;\n",
              "      border-right-color: var(--fill-color);\n",
              "      border-top-color: var(--fill-color);\n",
              "    }\n",
              "    60% {\n",
              "      border-color: transparent;\n",
              "      border-right-color: var(--fill-color);\n",
              "    }\n",
              "    80% {\n",
              "      border-color: transparent;\n",
              "      border-right-color: var(--fill-color);\n",
              "      border-bottom-color: var(--fill-color);\n",
              "    }\n",
              "    90% {\n",
              "      border-color: transparent;\n",
              "      border-bottom-color: var(--fill-color);\n",
              "    }\n",
              "  }\n",
              "</style>\n",
              "\n",
              "  <script>\n",
              "    async function quickchart(key) {\n",
              "      const quickchartButtonEl =\n",
              "        document.querySelector('#' + key + ' button');\n",
              "      quickchartButtonEl.disabled = true;  // To prevent multiple clicks.\n",
              "      quickchartButtonEl.classList.add('colab-df-spinner');\n",
              "      try {\n",
              "        const charts = await google.colab.kernel.invokeFunction(\n",
              "            'suggestCharts', [key], {});\n",
              "      } catch (error) {\n",
              "        console.error('Error during call to suggestCharts:', error);\n",
              "      }\n",
              "      quickchartButtonEl.classList.remove('colab-df-spinner');\n",
              "      quickchartButtonEl.classList.add('colab-df-quickchart-complete');\n",
              "    }\n",
              "    (() => {\n",
              "      let quickchartButtonEl =\n",
              "        document.querySelector('#df-c04cfcec-a69a-4ddf-bd59-086d2c4527fb button');\n",
              "      quickchartButtonEl.style.display =\n",
              "        google.colab.kernel.accessAllowed ? 'block' : 'none';\n",
              "    })();\n",
              "  </script>\n",
              "</div>\n",
              "    </div>\n",
              "  </div>\n"
            ]
          },
          "metadata": {},
          "execution_count": 69
        }
      ],
      "source": [
        "df.head()"
      ]
    },
    {
      "cell_type": "code",
      "execution_count": 70,
      "id": "dd8dc051",
      "metadata": {
        "colab": {
          "base_uri": "https://localhost:8080/"
        },
        "id": "dd8dc051",
        "outputId": "6ee817be-0b58-401e-f488-00e1bac81aff"
      },
      "outputs": [
        {
          "output_type": "execute_result",
          "data": {
            "text/plain": [
              "age               float64\n",
              "job                 int64\n",
              "marital             int64\n",
              "education_qual      int64\n",
              "call_type           int64\n",
              "day                 int64\n",
              "mon                 int64\n",
              "dur                 int64\n",
              "num_calls           int64\n",
              "prev_outcome        int64\n",
              "y                  object\n",
              "target              int64\n",
              "dtype: object"
            ]
          },
          "metadata": {},
          "execution_count": 70
        }
      ],
      "source": [
        "df.dtypes"
      ]
    },
    {
      "cell_type": "code",
      "execution_count": 71,
      "id": "42cb5648",
      "metadata": {
        "id": "42cb5648"
      },
      "outputs": [],
      "source": [
        "x = df[['age', 'job', 'marital', 'education_qual', 'call_type', 'day', 'mon', 'dur', 'num_calls', 'prev_outcome']].values\n",
        "y=df['target'].values"
      ]
    },
    {
      "cell_type": "code",
      "execution_count": 72,
      "id": "248116bf",
      "metadata": {
        "id": "248116bf"
      },
      "outputs": [],
      "source": [
        "from sklearn.model_selection import train_test_split\n",
        "\n",
        "x_train, x_test, y_train, y_test = train_test_split(x, y, test_size = 0.2, random_state = 3)"
      ]
    },
    {
      "cell_type": "markdown",
      "id": "a152cfc7",
      "metadata": {
        "id": "a152cfc7"
      },
      "source": [
        "as we have established that it is imbalanced data we will balance it"
      ]
    },
    {
      "cell_type": "code",
      "execution_count": 77,
      "id": "d853a5c6",
      "metadata": {
        "id": "d853a5c6"
      },
      "outputs": [],
      "source": [
        "from imblearn.combine import SMOTEENN\n",
        "smt = SMOTEENN(sampling_strategy='all')\n",
        "x_train_smt, y_train_smt = smt.fit_resample(x_train, y_train)"
      ]
    },
    {
      "cell_type": "markdown",
      "source": [
        "scaling\n"
      ],
      "metadata": {
        "id": "Y6beCmudg_M8"
      },
      "id": "Y6beCmudg_M8"
    },
    {
      "cell_type": "code",
      "source": [
        "from sklearn.preprocessing import StandardScaler\n",
        "scaler = StandardScaler()\n",
        "x_train_scaled = scaler.fit_transform(x_train_smt)\n",
        "x_test_scaled = scaler.transform(x_test)"
      ],
      "metadata": {
        "id": "h556NE2cg9NN"
      },
      "id": "h556NE2cg9NN",
      "execution_count": 78,
      "outputs": []
    },
    {
      "cell_type": "markdown",
      "id": "f71f1651",
      "metadata": {
        "id": "f71f1651"
      },
      "source": [
        "# LOGISTIC REGRESSION"
      ]
    },
    {
      "cell_type": "code",
      "execution_count": 80,
      "id": "fb8a6fd7",
      "metadata": {
        "colab": {
          "base_uri": "https://localhost:8080/"
        },
        "id": "fb8a6fd7",
        "outputId": "5fa2db5d-c4ae-4a96-ab16-72704047f7f6"
      },
      "outputs": [
        {
          "output_type": "stream",
          "name": "stdout",
          "text": [
            "Test data accuracy is : 0.7782324964052649, 0.488128669900434\n"
          ]
        }
      ],
      "source": [
        "from sklearn.linear_model import LogisticRegression\n",
        "from sklearn.metrics import f1_score\n",
        "\n",
        "lr = LogisticRegression()\n",
        "lr.fit(x_train_scaled, y_train_smt)\n",
        "print(f'Test data accuracy is : {lr.score(x_test_scaled, y_test)}, {f1_score(y_test, lr.predict(x_test_scaled))}')\n"
      ]
    },
    {
      "cell_type": "markdown",
      "id": "1a3b440c",
      "metadata": {
        "id": "1a3b440c"
      },
      "source": [
        "LR is giving an F1 score is 0.48"
      ]
    },
    {
      "cell_type": "code",
      "execution_count": 83,
      "id": "78466c59",
      "metadata": {
        "colab": {
          "base_uri": "https://localhost:8080/",
          "height": 457
        },
        "id": "78466c59",
        "outputId": "4544958a-7fe8-44ac-e450-c8bec18c5ed5"
      },
      "outputs": [
        {
          "output_type": "stream",
          "name": "stdout",
          "text": [
            "K : 1, training score : 1.0 and cross-val score : 0.873352564415978\n",
            "K : 2, training score : 0.9945377080222861 and cross-val score : 0.8895027624309393\n",
            "K : 3, training score : 0.9771676195331561 and cross-val score : 0.8872902508189509\n",
            "K : 4, training score : 0.977112996613379 and cross-val score : 0.8906085904268324\n",
            "K : 5, training score : 0.966461527256837 and cross-val score : 0.8914934239475871\n",
            "K : 6, training score : 0.9664979425366884 and cross-val score : 0.8937054466337457\n",
            "K : 7, training score : 0.9600888532828374 and cross-val score : 0.8944790495281867\n",
            "K : 8, training score : 0.958850733767889 and cross-val score : 0.8944795384540166\n",
            "K : 9, training score : 0.9547904300644551 and cross-val score : 0.8970230528528822\n",
            "K : 10, training score : 0.9526783438330724 and cross-val score : 0.8958068498508777\n",
            "K : 12, training score : 0.9477804886930556 and cross-val score : 0.8934839632327776\n",
            "K : 13, training score : 0.9456501948217472 and cross-val score : 0.8953642497433141\n",
            "K : 14, training score : 0.9451767961836787 and cross-val score : 0.8955862220701121\n",
            "K : 15, training score : 0.9433378245511816 and cross-val score : 0.8956965970762235\n",
            "K : 16, training score : 0.9425913113142275 and cross-val score : 0.8958073387767076\n",
            "K : 17, training score : 0.9408251702414333 and cross-val score : 0.8956968415391383\n",
            "K : 18, training score : 0.9392411055678963 and cross-val score : 0.8939274189605436\n",
            "K : 19, training score : 0.9382032700921307 and cross-val score : 0.8944805163056765\n",
            "K : 20, training score : 0.9366192054185937 and cross-val score : 0.8939271744976288\n",
            "K : 25, training score : 0.9332689996722625 and cross-val score : 0.8965817972913509\n",
            "K : 30, training score : 0.9298459633662285 and cross-val score : 0.8948122524812986\n",
            "K : 50, training score : 0.9229270601944576 and cross-val score : 0.8919362685180661\n"
          ]
        },
        {
          "output_type": "execute_result",
          "data": {
            "text/plain": [
              "KNeighborsClassifier()"
            ],
            "text/html": [
              "<style>#sk-container-id-2 {color: black;background-color: white;}#sk-container-id-2 pre{padding: 0;}#sk-container-id-2 div.sk-toggleable {background-color: white;}#sk-container-id-2 label.sk-toggleable__label {cursor: pointer;display: block;width: 100%;margin-bottom: 0;padding: 0.3em;box-sizing: border-box;text-align: center;}#sk-container-id-2 label.sk-toggleable__label-arrow:before {content: \"▸\";float: left;margin-right: 0.25em;color: #696969;}#sk-container-id-2 label.sk-toggleable__label-arrow:hover:before {color: black;}#sk-container-id-2 div.sk-estimator:hover label.sk-toggleable__label-arrow:before {color: black;}#sk-container-id-2 div.sk-toggleable__content {max-height: 0;max-width: 0;overflow: hidden;text-align: left;background-color: #f0f8ff;}#sk-container-id-2 div.sk-toggleable__content pre {margin: 0.2em;color: black;border-radius: 0.25em;background-color: #f0f8ff;}#sk-container-id-2 input.sk-toggleable__control:checked~div.sk-toggleable__content {max-height: 200px;max-width: 100%;overflow: auto;}#sk-container-id-2 input.sk-toggleable__control:checked~label.sk-toggleable__label-arrow:before {content: \"▾\";}#sk-container-id-2 div.sk-estimator input.sk-toggleable__control:checked~label.sk-toggleable__label {background-color: #d4ebff;}#sk-container-id-2 div.sk-label input.sk-toggleable__control:checked~label.sk-toggleable__label {background-color: #d4ebff;}#sk-container-id-2 input.sk-hidden--visually {border: 0;clip: rect(1px 1px 1px 1px);clip: rect(1px, 1px, 1px, 1px);height: 1px;margin: -1px;overflow: hidden;padding: 0;position: absolute;width: 1px;}#sk-container-id-2 div.sk-estimator {font-family: monospace;background-color: #f0f8ff;border: 1px dotted black;border-radius: 0.25em;box-sizing: border-box;margin-bottom: 0.5em;}#sk-container-id-2 div.sk-estimator:hover {background-color: #d4ebff;}#sk-container-id-2 div.sk-parallel-item::after {content: \"\";width: 100%;border-bottom: 1px solid gray;flex-grow: 1;}#sk-container-id-2 div.sk-label:hover label.sk-toggleable__label {background-color: #d4ebff;}#sk-container-id-2 div.sk-serial::before {content: \"\";position: absolute;border-left: 1px solid gray;box-sizing: border-box;top: 0;bottom: 0;left: 50%;z-index: 0;}#sk-container-id-2 div.sk-serial {display: flex;flex-direction: column;align-items: center;background-color: white;padding-right: 0.2em;padding-left: 0.2em;position: relative;}#sk-container-id-2 div.sk-item {position: relative;z-index: 1;}#sk-container-id-2 div.sk-parallel {display: flex;align-items: stretch;justify-content: center;background-color: white;position: relative;}#sk-container-id-2 div.sk-item::before, #sk-container-id-2 div.sk-parallel-item::before {content: \"\";position: absolute;border-left: 1px solid gray;box-sizing: border-box;top: 0;bottom: 0;left: 50%;z-index: -1;}#sk-container-id-2 div.sk-parallel-item {display: flex;flex-direction: column;z-index: 1;position: relative;background-color: white;}#sk-container-id-2 div.sk-parallel-item:first-child::after {align-self: flex-end;width: 50%;}#sk-container-id-2 div.sk-parallel-item:last-child::after {align-self: flex-start;width: 50%;}#sk-container-id-2 div.sk-parallel-item:only-child::after {width: 0;}#sk-container-id-2 div.sk-dashed-wrapped {border: 1px dashed gray;margin: 0 0.4em 0.5em 0.4em;box-sizing: border-box;padding-bottom: 0.4em;background-color: white;}#sk-container-id-2 div.sk-label label {font-family: monospace;font-weight: bold;display: inline-block;line-height: 1.2em;}#sk-container-id-2 div.sk-label-container {text-align: center;}#sk-container-id-2 div.sk-container {/* jupyter's `normalize.less` sets `[hidden] { display: none; }` but bootstrap.min.css set `[hidden] { display: none !important; }` so we also need the `!important` here to be able to override the default hidden behavior on the sphinx rendered scikit-learn.org. See: https://github.com/scikit-learn/scikit-learn/issues/21755 */display: inline-block !important;position: relative;}#sk-container-id-2 div.sk-text-repr-fallback {display: none;}</style><div id=\"sk-container-id-2\" class=\"sk-top-container\"><div class=\"sk-text-repr-fallback\"><pre>KNeighborsClassifier()</pre><b>In a Jupyter environment, please rerun this cell to show the HTML representation or trust the notebook. <br />On GitHub, the HTML representation is unable to render, please try loading this page with nbviewer.org.</b></div><div class=\"sk-container\" hidden><div class=\"sk-item\"><div class=\"sk-estimator sk-toggleable\"><input class=\"sk-toggleable__control sk-hidden--visually\" id=\"sk-estimator-id-2\" type=\"checkbox\" checked><label for=\"sk-estimator-id-2\" class=\"sk-toggleable__label sk-toggleable__label-arrow\">KNeighborsClassifier</label><div class=\"sk-toggleable__content\"><pre>KNeighborsClassifier()</pre></div></div></div></div></div>"
            ]
          },
          "metadata": {},
          "execution_count": 83
        }
      ],
      "source": [
        "from sklearn.neighbors import KNeighborsClassifier\n",
        "from sklearn.model_selection import cross_val_score\n",
        "import numpy as np\n",
        "\n",
        "for k in [1,2,3,4,5,6,7,8,9,10,12,13, 14, 15,16,17, 18, 19, 20,25,30,50]:\n",
        "  knn = KNeighborsClassifier(k)\n",
        "  knn.fit(x_train_scaled, y_train_smt)\n",
        "  train_score = knn.score(x_train_scaled, y_train_smt)\n",
        "  knn = KNeighborsClassifier(k)\n",
        "  cross_val_result = np.mean(cross_val_score(knn, x_test_scaled, y_test, cv = 10))\n",
        "  print(f'K : {k}, training score : {train_score} and cross-val score : {cross_val_result}')\n",
        "\n",
        "\n",
        "KNeighborsClassifier()\n"
      ]
    },
    {
      "cell_type": "markdown",
      "source": [
        "we can see that the best cross val score is obtained at k=9\n"
      ],
      "metadata": {
        "id": "qJom2aIMnJtv"
      },
      "id": "qJom2aIMnJtv"
    },
    {
      "cell_type": "code",
      "source": [
        "knn = KNeighborsClassifier(9)\n",
        "knn.fit(x_train_scaled, y_train_smt)\n",
        "print(f'Test data accuracy is : {knn.score(x_test_scaled, y_test)}, {f1_score(y_test, knn.predict(x_test_scaled))} ')"
      ],
      "metadata": {
        "colab": {
          "base_uri": "https://localhost:8080/"
        },
        "id": "s18begZ9nhod",
        "outputId": "ec06a77d-8ea5-4ebb-9b6e-ddfff2d9c83f"
      },
      "id": "s18begZ9nhod",
      "execution_count": 84,
      "outputs": [
        {
          "output_type": "stream",
          "name": "stdout",
          "text": [
            "Test data accuracy is : 0.8131843822585997, 0.5243593353984792 \n"
          ]
        }
      ]
    },
    {
      "cell_type": "markdown",
      "source": [
        "f1 score for knn is 0.52"
      ],
      "metadata": {
        "id": "UeluRtBCokvl"
      },
      "id": "UeluRtBCokvl"
    },
    {
      "cell_type": "markdown",
      "source": [
        "## Decision Tree"
      ],
      "metadata": {
        "id": "NHlvafVlo7kC"
      },
      "id": "NHlvafVlo7kC"
    },
    {
      "cell_type": "code",
      "source": [
        "from sklearn.tree import DecisionTreeClassifier\n",
        "from sklearn.model_selection import cross_val_score\n",
        "\n",
        "for depth in [1,2,3,4,5,6,7,8,9,10,13,14,15,16,17,20,30]:\n",
        "  dt = DecisionTreeClassifier(max_depth = depth)\n",
        "  dt.fit(x_train_scaled, y_train_smt)\n",
        "  train_score = dt.score(x_train_scaled, y_train_smt)\n",
        "  dt = DecisionTreeClassifier(max_depth = depth)\n",
        "  cross_val_result = np.mean(cross_val_score(dt, x_train_scaled, y_train_smt, cv = 10))\n",
        "  print(f'Depth : {depth}, training score : {train_score} and cross-val score : {cross_val_result}')"
      ],
      "metadata": {
        "colab": {
          "base_uri": "https://localhost:8080/"
        },
        "id": "wTRpT1Ylopok",
        "outputId": "ec17fd51-cce4-4022-8b3f-48a8e763c603"
      },
      "id": "wTRpT1Ylopok",
      "execution_count": 86,
      "outputs": [
        {
          "output_type": "stream",
          "name": "stdout",
          "text": [
            "Depth : 1, training score : 0.7801973708167947 and cross-val score : 0.7801973782695556\n",
            "Depth : 2, training score : 0.8293033756964422 and cross-val score : 0.8293039581993318\n",
            "Depth : 3, training score : 0.8681402716579877 and cross-val score : 0.8652819704718541\n",
            "Depth : 4, training score : 0.8937584210334656 and cross-val score : 0.8859848441153139\n",
            "Depth : 5, training score : 0.9091074614908415 and cross-val score : 0.9079247619528742\n",
            "Depth : 6, training score : 0.9202323294854521 and cross-val score : 0.9184126118801272\n",
            "Depth : 7, training score : 0.9334692837114453 and cross-val score : 0.9296286812229668\n",
            "Depth : 8, training score : 0.9441571683478388 and cross-val score : 0.9351822103189267\n",
            "Depth : 9, training score : 0.9539164633480208 and cross-val score : 0.9428477003572977\n",
            "Depth : 10, training score : 0.9627835839918429 and cross-val score : 0.946671603095723\n",
            "Depth : 13, training score : 0.9820654746731728 and cross-val score : 0.954228244409325\n",
            "Depth : 14, training score : 0.9862896471359383 and cross-val score : 0.9553754205345637\n",
            "Depth : 15, training score : 0.9903317431994465 and cross-val score : 0.9549749704616444\n",
            "Depth : 16, training score : 0.9932085503077092 and cross-val score : 0.9550842865759492\n",
            "Depth : 17, training score : 0.9952842212592404 and cross-val score : 0.9538826612271805\n",
            "Depth : 20, training score : 0.999180656203343 and cross-val score : 0.9535185349452903\n",
            "Depth : 30, training score : 1.0 and cross-val score : 0.9534275365230117\n"
          ]
        }
      ]
    },
    {
      "cell_type": "markdown",
      "source": [
        "best cross val at depth 14"
      ],
      "metadata": {
        "id": "fJUO_orBq4rG"
      },
      "id": "fJUO_orBq4rG"
    },
    {
      "cell_type": "code",
      "source": [
        "dt = DecisionTreeClassifier(max_depth = 14)\n",
        "dt.fit(x_train_scaled, y_train_smt)\n",
        "f'Test data accuracy is : {dt.score(x_test_scaled, y_test)}, {f1_score(y_test, dt.predict(x_test_scaled))} '"
      ],
      "metadata": {
        "colab": {
          "base_uri": "https://localhost:8080/",
          "height": 35
        },
        "id": "ACoFiZq2p38X",
        "outputId": "305ae6d8-bec6-456e-e2fb-583747573431"
      },
      "id": "ACoFiZq2p38X",
      "execution_count": 88,
      "outputs": [
        {
          "output_type": "execute_result",
          "data": {
            "text/plain": [
              "'Test data accuracy is : 0.8622939940272094, 0.5720178755586113 '"
            ],
            "application/vnd.google.colaboratory.intrinsic+json": {
              "type": "string"
            }
          },
          "metadata": {},
          "execution_count": 88
        }
      ]
    },
    {
      "cell_type": "markdown",
      "source": [
        "Decision tree f1 score=0.57"
      ],
      "metadata": {
        "id": "HMWATMi5rS9R"
      },
      "id": "HMWATMi5rS9R"
    },
    {
      "cell_type": "markdown",
      "source": [
        "##Voting Classifier"
      ],
      "metadata": {
        "id": "xdFVOhsWrc1J"
      },
      "id": "xdFVOhsWrc1J"
    },
    {
      "cell_type": "code",
      "source": [
        "from sklearn.ensemble import VotingClassifier\n",
        "\n",
        "model = VotingClassifier(estimators = [('logistic_regression', lr),('k-nn', knn),('decision-tree', dt)])\n",
        "model.fit(x_train_scaled, y_train_smt)\n",
        "f'Test data accuracy is : {model.score(x_test_scaled, y_test)}, {f1_score(y_test, model.predict(x_test_scaled))} '"
      ],
      "metadata": {
        "colab": {
          "base_uri": "https://localhost:8080/",
          "height": 35
        },
        "id": "bECdj-hMrOP4",
        "outputId": "68c68a98-f949-4f1d-de61-e5ade6d0fba2"
      },
      "id": "bECdj-hMrOP4",
      "execution_count": 89,
      "outputs": [
        {
          "output_type": "execute_result",
          "data": {
            "text/plain": [
              "'Test data accuracy is : 0.82789514434244, 0.5479372457873329 '"
            ],
            "application/vnd.google.colaboratory.intrinsic+json": {
              "type": "string"
            }
          },
          "metadata": {},
          "execution_count": 89
        }
      ]
    },
    {
      "cell_type": "markdown",
      "source": [
        "##Random forest"
      ],
      "metadata": {
        "id": "jMmCEOzXsWLI"
      },
      "id": "jMmCEOzXsWLI"
    },
    {
      "cell_type": "code",
      "source": [
        "from sklearn.ensemble import RandomForestClassifier\n",
        "\n",
        "for depth in [1,2,3,4,5,6,7,8,9,10,12,15,20]:\n",
        "  rf = RandomForestClassifier(max_depth = depth)\n",
        "  rf.fit(x_train_scaled, y_train_smt)\n",
        "  train_score = rf.score(x_train_scaled, y_train_smt)\n",
        "  cross_val_result = np.mean(cross_val_score(rf, x_test_scaled, y_test, cv = 10))\n",
        "  print(f'Depth : {depth}, training score : {train_score} and cross-val score : {cross_val_result}')"
      ],
      "metadata": {
        "colab": {
          "base_uri": "https://localhost:8080/"
        },
        "id": "06GLr5RcrGMx",
        "outputId": "5bb2c04f-b310-4870-e9e2-1075afd1b0d1"
      },
      "id": "06GLr5RcrGMx",
      "execution_count": 92,
      "outputs": [
        {
          "output_type": "stream",
          "name": "stdout",
          "text": [
            "Depth : 1, training score : 0.8311787626087906 and cross-val score : 0.8817608663765707\n",
            "Depth : 2, training score : 0.8685226320964277 and cross-val score : 0.8862957756808292\n",
            "Depth : 3, training score : 0.9077965114161902 and cross-val score : 0.8924893658631985\n",
            "Depth : 4, training score : 0.9253304686646517 and cross-val score : 0.8974672419693933\n",
            "Depth : 5, training score : 0.9345253268271366 and cross-val score : 0.8996793868870092\n",
            "Depth : 6, training score : 0.9422635737955646 and cross-val score : 0.9007854593458173\n",
            "Depth : 7, training score : 0.9496376679654783 and cross-val score : 0.9029972375690607\n",
            "Depth : 8, training score : 0.9550271293834893 and cross-val score : 0.9044349239720335\n",
            "Depth : 9, training score : 0.9615454644768945 and cross-val score : 0.9036603432259327\n",
            "Depth : 10, training score : 0.9679909690105969 and cross-val score : 0.9041035544907837\n",
            "Depth : 12, training score : 0.9788063071264703 and cross-val score : 0.902554637461497\n",
            "Depth : 15, training score : 0.9927169440297149 and cross-val score : 0.9039920794015549\n",
            "Depth : 20, training score : 0.9994901860820801 and cross-val score : 0.9026652569305236\n"
          ]
        }
      ]
    },
    {
      "cell_type": "markdown",
      "source": [
        "max depth 8 gives best cross val score"
      ],
      "metadata": {
        "id": "y9HXvk6nwdEg"
      },
      "id": "y9HXvk6nwdEg"
    },
    {
      "cell_type": "code",
      "source": [
        "rf = RandomForestClassifier(max_depth = 8)\n",
        "rf.fit(x_train_scaled, y_train_smt)\n",
        "f'Test data accuracy is : {rf.score(x_test_scaled, y_test)}, {f1_score(y_test, rf.predict(x_test_scaled))} '"
      ],
      "metadata": {
        "colab": {
          "base_uri": "https://localhost:8080/",
          "height": 35
        },
        "id": "JWAungajsknM",
        "outputId": "88bc8c1e-6fbd-451a-9085-45e0b23a19a9"
      },
      "id": "JWAungajsknM",
      "execution_count": 93,
      "outputs": [
        {
          "output_type": "execute_result",
          "data": {
            "text/plain": [
              "'Test data accuracy is : 0.8379604026103307, 0.557802595834591 '"
            ],
            "application/vnd.google.colaboratory.intrinsic+json": {
              "type": "string"
            }
          },
          "metadata": {},
          "execution_count": 93
        }
      ]
    },
    {
      "cell_type": "markdown",
      "source": [
        "f1 score for random forest is 0.55"
      ],
      "metadata": {
        "id": "Ljc2S8pBw8jF"
      },
      "id": "Ljc2S8pBw8jF"
    },
    {
      "cell_type": "markdown",
      "source": [
        "##Xgboost"
      ],
      "metadata": {
        "id": "lrQYvCx8xOfP"
      },
      "id": "lrQYvCx8xOfP"
    },
    {
      "cell_type": "code",
      "source": [
        "import xgboost as xgb\n",
        "\n",
        "for lr in [0.001, 0.002, 0.005, 0.01, 0.02, 0.03, 0.04, 0.05, 0.06, 0.07, 0.08, 0.09, 0.1, 0.2, 0.5, 1]:\n",
        "  xg = xgb.XGBClassifier(learning_rate=lr)\n",
        "  xg.fit(x_train_scaled, y_train_smt)\n",
        "  train_score = xg.score(x_train_scaled, y_train_smt)\n",
        "  cross_val_result = np.mean(cross_val_score(xg, x_test_scaled, y_test, cv = 10))\n",
        "  print(f'Learning Rate : {lr}, training score : {train_score} and cross-val score : {cross_val_result}')"
      ],
      "metadata": {
        "colab": {
          "base_uri": "https://localhost:8080/"
        },
        "id": "6PYIiyPvwu3V",
        "outputId": "f2e3b035-e597-48e7-e747-e1b652007f86"
      },
      "id": "6PYIiyPvwu3V",
      "execution_count": 97,
      "outputs": [
        {
          "output_type": "stream",
          "name": "stdout",
          "text": [
            "Learning Rate : 0.001, training score : 0.5611958777903209 and cross-val score : 0.8817608663765707\n",
            "Learning Rate : 0.002, training score : 0.9096718983285387 and cross-val score : 0.8817608663765707\n",
            "Learning Rate : 0.005, training score : 0.9302829467244456 and cross-val score : 0.8817608663765707\n",
            "Learning Rate : 0.01, training score : 0.9383671388514621 and cross-val score : 0.8948123747127561\n",
            "Learning Rate : 0.02, training score : 0.9505298423218382 and cross-val score : 0.9012281816848384\n",
            "Learning Rate : 0.03, training score : 0.9577582753723463 and cross-val score : 0.9034399599080819\n",
            "Learning Rate : 0.04, training score : 0.9626925457922144 and cross-val score : 0.9047673935364005\n",
            "Learning Rate : 0.05, training score : 0.9663704890572085 and cross-val score : 0.9049886324744536\n",
            "Learning Rate : 0.06, training score : 0.9699756017624995 and cross-val score : 0.9060936048501442\n",
            "Learning Rate : 0.07, training score : 0.9725064637121736 and cross-val score : 0.9058728548379211\n",
            "Learning Rate : 0.08, training score : 0.9736717526674192 and cross-val score : 0.9060934826186868\n",
            "Learning Rate : 0.09, training score : 0.9752194020611048 and cross-val score : 0.9056511269740379\n",
            "Learning Rate : 0.1, training score : 0.9757838388988019 and cross-val score : 0.906646702195277\n",
            "Learning Rate : 0.2, training score : 0.9833218018280471 and cross-val score : 0.9044354128978634\n",
            "Learning Rate : 0.5, training score : 0.994483085102509 and cross-val score : 0.8992353200019556\n",
            "Learning Rate : 1, training score : 0.9995266013619315 and cross-val score : 0.8959180804771917\n"
          ]
        }
      ]
    },
    {
      "cell_type": "code",
      "source": [
        "xg = xgb.XGBClassifier(learning_rate=0.05)\n",
        "xg.fit(x_train_scaled, y_train_smt)\n",
        "f'Test data accuracy is : {xg.score(x_test_scaled, y_test)}, {f1_score(y_test, xg.predict(x_test_scaled))} '"
      ],
      "metadata": {
        "colab": {
          "base_uri": "https://localhost:8080/",
          "height": 35
        },
        "id": "dJ-N_NdtxVvl",
        "outputId": "e93d6bfe-fd12-4dd5-eb75-b0eb3db3f99f"
      },
      "id": "dJ-N_NdtxVvl",
      "execution_count": 98,
      "outputs": [
        {
          "output_type": "execute_result",
          "data": {
            "text/plain": [
              "'Test data accuracy is : 0.863178851896914, 0.5864259445001672 '"
            ],
            "application/vnd.google.colaboratory.intrinsic+json": {
              "type": "string"
            }
          },
          "metadata": {},
          "execution_count": 98
        }
      ]
    },
    {
      "cell_type": "markdown",
      "source": [
        "f1 scores\n",
        "\n",
        "lr=0.48\n",
        "\n",
        "knn=0.52\n",
        "\n",
        "decision tree=0.57\n",
        "\n",
        "random forest=0.55\n",
        "\n",
        "xgboost=0.58\n",
        "\n",
        "hence the best approach should be xgboost\n"
      ],
      "metadata": {
        "id": "-uIeE7Umy69k"
      },
      "id": "-uIeE7Umy69k"
    },
    {
      "cell_type": "code",
      "source": [
        "from xgboost import plot_importance\n",
        "\n",
        "# plot feature importance\n",
        "plot_importance(xg)\n",
        "plt.show()"
      ],
      "metadata": {
        "colab": {
          "base_uri": "https://localhost:8080/",
          "height": 472
        },
        "id": "Z8UTFrH0zhNn",
        "outputId": "757e449d-ad90-4c8f-e657-b04280e660b5"
      },
      "id": "Z8UTFrH0zhNn",
      "execution_count": 101,
      "outputs": [
        {
          "output_type": "display_data",
          "data": {
            "text/plain": [
              "<Figure size 640x480 with 1 Axes>"
            ],
            "image/png": "[encoded data removed]"
          },
          "metadata": {}
        }
      ]
    },
    {
      "cell_type": "code",
      "source": [
        "for x,y in enumerate(df.columns):\n",
        "  if x<10:\n",
        "    print('f'+str(x)+'='+y)"
      ],
      "metadata": {
        "colab": {
          "base_uri": "https://localhost:8080/"
        },
        "id": "s7ljrjo30Lnc",
        "outputId": "9dcdc2bb-7212-4092-877d-fd911f8ccef9"
      },
      "id": "s7ljrjo30Lnc",
      "execution_count": 105,
      "outputs": [
        {
          "output_type": "stream",
          "name": "stdout",
          "text": [
            "f0=age\n",
            "f1=job\n",
            "f2=marital\n",
            "f3=education_qual\n",
            "f4=call_type\n",
            "f5=day\n",
            "f6=mon\n",
            "f7=dur\n",
            "f8=num_calls\n",
            "f9=prev_outcome\n"
          ]
        }
      ]
    },
    {
      "cell_type": "markdown",
      "source": [
        "Least important feature is ed qualification\n",
        "highest is duration of call\n",
        "\n",
        "the higher time a call occours will play a crucial role in consumer conversion"
      ],
      "metadata": {
        "id": "04efrSj-1QJA"
      },
      "id": "04efrSj-1QJA"
    },
    {
      "cell_type": "code",
      "source": [],
      "metadata": {
        "id": "8Nvxr2le0ox9"
      },
      "id": "8Nvxr2le0ox9",
      "execution_count": null,
      "outputs": []
    }
  ],
  "metadata": {
    "kernelspec": {
      "display_name": "Python 3 (ipykernel)",
      "language": "python",
      "name": "python3"
    },
    "language_info": {
      "codemirror_mode": {
        "name": "ipython",
        "version": 3
      },
      "file_extension": ".py",
      "mimetype": "text/x-python",
      "name": "python",
      "nbconvert_exporter": "python",
      "pygments_lexer": "ipython3",
      "version": "3.11.5"
    },
    "colab": {
      "provenance": [],
      "include_colab_link": true
    }
  },
  "nbformat": 4,
  "nbformat_minor": 5
}